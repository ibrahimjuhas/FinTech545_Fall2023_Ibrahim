{
 "cells": [
  {
   "cell_type": "markdown",
   "metadata": {},
   "source": [
    "Exam_prep"
   ]
  },
  {
   "cell_type": "markdown",
   "metadata": {},
   "source": [
    "Problem 1\n",
    "\n",
    "1. Using the data in “problem1.csv”\n",
    "\n",
    "<ol type=\"a\">\n",
    "  <li>Calculate Log Returns (2pts)</li>\n",
    "  <li>Calculate Pairwise Covariance (4pt)</li>\n",
    "  <li>Is this Matrix PSD? If not, fix it with the “near_psd” method (2pt)</li>\n",
    "  <li>Discuss when you might see data like this in the real world. (2pt)</li>\n",
    "</ol>\n",
    "\n"
   ]
  },
  {
   "cell_type": "code",
   "execution_count": 171,
   "metadata": {},
   "outputs": [],
   "source": [
    "import numpy as np\n",
    "import matplotlib.pyplot as plt\n",
    "import pandas as pd\n",
    "import math"
   ]
  },
  {
   "cell_type": "code",
   "execution_count": 172,
   "metadata": {},
   "outputs": [
    {
     "data": {
      "text/html": [
       "<div>\n",
       "<style scoped>\n",
       "    .dataframe tbody tr th:only-of-type {\n",
       "        vertical-align: middle;\n",
       "    }\n",
       "\n",
       "    .dataframe tbody tr th {\n",
       "        vertical-align: top;\n",
       "    }\n",
       "\n",
       "    .dataframe thead th {\n",
       "        text-align: right;\n",
       "    }\n",
       "</style>\n",
       "<table border=\"1\" class=\"dataframe\">\n",
       "  <thead>\n",
       "    <tr style=\"text-align: right;\">\n",
       "      <th></th>\n",
       "      <th>Price1</th>\n",
       "      <th>Price2</th>\n",
       "      <th>Price3</th>\n",
       "      <th>Date</th>\n",
       "    </tr>\n",
       "  </thead>\n",
       "  <tbody>\n",
       "    <tr>\n",
       "      <th>0</th>\n",
       "      <td>87.702209</td>\n",
       "      <td>108.578277</td>\n",
       "      <td>126.052618</td>\n",
       "      <td>2023-11-26</td>\n",
       "    </tr>\n",
       "    <tr>\n",
       "      <th>1</th>\n",
       "      <td>89.958023</td>\n",
       "      <td>106.879040</td>\n",
       "      <td>128.348321</td>\n",
       "      <td>2023-11-27</td>\n",
       "    </tr>\n",
       "    <tr>\n",
       "      <th>2</th>\n",
       "      <td>89.108885</td>\n",
       "      <td>104.930588</td>\n",
       "      <td>127.324218</td>\n",
       "      <td>2023-11-28</td>\n",
       "    </tr>\n",
       "    <tr>\n",
       "      <th>3</th>\n",
       "      <td>88.403296</td>\n",
       "      <td>NaN</td>\n",
       "      <td>NaN</td>\n",
       "      <td>2023-11-29</td>\n",
       "    </tr>\n",
       "    <tr>\n",
       "      <th>4</th>\n",
       "      <td>89.692499</td>\n",
       "      <td>111.047562</td>\n",
       "      <td>128.013536</td>\n",
       "      <td>2023-11-30</td>\n",
       "    </tr>\n",
       "  </tbody>\n",
       "</table>\n",
       "</div>"
      ],
      "text/plain": [
       "      Price1      Price2      Price3        Date\n",
       "0  87.702209  108.578277  126.052618  2023-11-26\n",
       "1  89.958023  106.879040  128.348321  2023-11-27\n",
       "2  89.108885  104.930588  127.324218  2023-11-28\n",
       "3  88.403296         NaN         NaN  2023-11-29\n",
       "4  89.692499  111.047562  128.013536  2023-11-30"
      ]
     },
     "execution_count": 172,
     "metadata": {},
     "output_type": "execute_result"
    }
   ],
   "source": [
    "problem1 = pd.read_csv('problem1.csv')\n",
    "problem1.head()"
   ]
  },
  {
   "cell_type": "code",
   "execution_count": 173,
   "metadata": {},
   "outputs": [
    {
     "name": "stdout",
     "output_type": "stream",
     "text": [
      "         Date    Price1    Price2    Price3\n",
      "1  2023-11-27  0.025396 -0.015774  0.018048\n",
      "2  2023-11-28 -0.009484 -0.018399 -0.008011\n",
      "3  2023-11-29 -0.007950       NaN       NaN\n",
      "4  2023-11-30  0.014478       NaN       NaN\n",
      "5  2023-12-01 -0.022319 -0.038680 -0.001883\n"
     ]
    }
   ],
   "source": [
    "def return_calculate(prices_df, method=\"DISCRETE\", date_column=\"Date\"):\n",
    "    vars = prices_df.columns\n",
    "    n_vars = len(vars)\n",
    "    vars = [var for var in vars if var != date_column]\n",
    "    \n",
    "    if n_vars == len(vars):\n",
    "        raise ValueError(f\"date_column: {date_column} not in DataFrame: {vars}\")\n",
    "    \n",
    "    n_vars = n_vars - 1\n",
    "    \n",
    "    p = prices_df[vars].values\n",
    "    n = p.shape[0]\n",
    "    m = p.shape[1]\n",
    "    p2 = np.empty((n-1, m))\n",
    "    \n",
    "    for i in range(n-1):\n",
    "        for j in range(m):\n",
    "            p2[i, j] = p[i+1, j] / p[i, j]\n",
    "    \n",
    "    if method.upper() == \"DISCRETE\":\n",
    "        p2 = p2 - 1.0\n",
    "    elif method.upper() == \"LOG\":\n",
    "        p2 = np.log(p2)\n",
    "    else:\n",
    "        raise ValueError(f\"method: {method} must be in (\\\"LOG\\\",\\\"DISCRETE\\\")\")\n",
    "    \n",
    "    dates = prices_df[date_column].iloc[1:]\n",
    "    \n",
    "    # Create a new DataFrame with all columns\n",
    "    data = {date_column: dates}\n",
    "    for i in range(n_vars):\n",
    "        data[vars[i]] = p2[:, i]\n",
    "    \n",
    "    out = pd.DataFrame(data)\n",
    "    \n",
    "    return out\n",
    "\n",
    "returns = return_calculate(problem1, method=\"LOG\", date_column=\"Date\")\n",
    "print(returns.head())"
   ]
  },
  {
   "cell_type": "code",
   "execution_count": 174,
   "metadata": {},
   "outputs": [
    {
     "name": "stdout",
     "output_type": "stream",
     "text": [
      "     Price1    Price2    Price3\n",
      "1  0.025396 -0.015774  0.018048\n",
      "2 -0.009484 -0.018399 -0.008011\n",
      "3 -0.007950       NaN       NaN\n",
      "4  0.014478       NaN       NaN\n",
      "5 -0.022319 -0.038680 -0.001883\n"
     ]
    }
   ],
   "source": [
    "#drop the date column from returns\n",
    "returns = returns.drop('Date', axis=1)\n",
    "\n",
    "print(returns.head())"
   ]
  },
  {
   "cell_type": "code",
   "execution_count": null,
   "metadata": {},
   "outputs": [],
   "source": [
    " # get rid of the missing values\n",
    "\n",
    "# use the returns without dates to calculate the covariance matrix"
   ]
  },
  {
   "cell_type": "code",
   "execution_count": 175,
   "metadata": {},
   "outputs": [],
   "source": [
    "def covariance_matrix(input_df, skipna=True):\n",
    "    # calculate the covariance matrix either pairwise or skipping rows\n",
    "\n",
    "    if skipna:\n",
    "        cov_matrix = input_df.dropna().cov()\n",
    "    else:\n",
    "        cov_matrix = input_df.cov()\n",
    "\n",
    "    # Set the column and index names to match the input\n",
    "    cov_matrix.columns = input_df.columns\n",
    "    cov_matrix.index = input_df.columns\n",
    "\n",
    "    return cov_matrix\n"
   ]
  },
  {
   "cell_type": "code",
   "execution_count": 36,
   "metadata": {},
   "outputs": [],
   "source": [
    "# problem1_copy = problem1.copy()\n",
    "# problem1_copy = problem1_copy.dropna()\n",
    "# problem1_copy = problem1_copy.drop(columns=['Date'])\n",
    "\n",
    "# problem1_copy.head()"
   ]
  },
  {
   "cell_type": "code",
   "execution_count": 7,
   "metadata": {},
   "outputs": [
    {
     "name": "stdout",
     "output_type": "stream",
     "text": [
      "          Price1    Price2    Price3\n",
      "Price1  0.000383  0.000088 -0.000025\n",
      "Price2  0.000088  0.000312 -0.000001\n",
      "Price3 -0.000025 -0.000001  0.000082\n"
     ]
    }
   ],
   "source": [
    "#drop the date\n",
    "\n",
    "pairwise_cov = covariance_matrix(returns, skipna=True)\n",
    "print(pairwise_cov)"
   ]
  },
  {
   "cell_type": "code",
   "execution_count": 8,
   "metadata": {},
   "outputs": [],
   "source": [
    "def is_psd(matrix):\n",
    "    # Check if a matrix is positive semidefinite\n",
    "    eigenvalues = np.linalg.eigvals(matrix)\n",
    "    psd =  np.all(eigenvalues >= 0)\n",
    "    if psd:\n",
    "        print(\"The matrix is positive semidefinite.\")\n",
    "    else:\n",
    "        print(\"The matrix is not positive semidefinite.\")\n",
    "        # Print the negative eigenvalues\n",
    "        negative_eigenvalues = eigenvalues[eigenvalues < 0]\n",
    "        print(\"Negative Eigenvalues:\", negative_eigenvalues)\n",
    "\n",
    "\n",
    "def near_psd(a, epsilon=0.0):\n",
    "    n = a.shape[0]\n",
    "\n",
    "    invSD = None\n",
    "    out = a.copy()\n",
    "\n",
    "    # Calculate the correlation matrix if we got a covariance\n",
    "    if np.sum(np.isclose(np.diag(out), 1.0)) != n:\n",
    "        invSD = np.diag(1.0 / np.sqrt(np.diag(out)))\n",
    "        out = np.dot(np.dot(invSD, out), invSD)\n",
    "\n",
    "    # SVD, update the eigenvalue and scale\n",
    "    vals, vecs = np.linalg.eigh(out)\n",
    "\n",
    "    vals = np.maximum(vals, epsilon)\n",
    "   \n",
    "    T = 1.0 / (vecs * vecs @ vals)\n",
    "    T = np.diag(np.sqrt(T))\n",
    "    l = np.diag(np.sqrt(vals))\n",
    "    B = np.dot(np.dot(T, vecs), l)\n",
    "    out = np.dot(B, B.T)\n",
    "\n",
    "    # Add back the variance\n",
    "    if invSD is not None:\n",
    "        invSD = np.diag(1.0 / np.diag(invSD))\n",
    "        out = np.dot(np.dot(invSD, out), invSD)\n",
    "\n",
    "    return out\n",
    "\n",
    "def chol_psd(root, a):\n",
    "    n = a.shape[0]\n",
    "\n",
    "    # Initialize the root matrix with 0 values\n",
    "    root.fill(0.0)\n",
    "\n",
    "    # Loop over columns\n",
    "    for j in range(n):\n",
    "        s = 0.0\n",
    "\n",
    "        # If we are not on the first column, calculate the dot product of the preceding row values.\n",
    "        if j > 0:\n",
    "            s = np.dot(root[j, :j], root[j, :j])\n",
    "\n",
    "        # Diagonal Element\n",
    "        temp = a[j, j] - s\n",
    "        if 0.0 >= temp >= -1e-8:\n",
    "            temp = 0.0\n",
    "        root[j, j] = np.sqrt(temp)\n",
    "\n",
    "        # Check for the 0 eigenvalue. Just set the column to 0 if we have one\n",
    "        if root[j, j] == 0.0:\n",
    "            root[j, j+1:] = 0.0\n",
    "        else:\n",
    "            # Update off-diagonal rows of the column\n",
    "            ir = 1.0 / root[j, j]\n",
    "            for i in range(j+1, n):\n",
    "                s = np.dot(root[i, :j], root[j, :j])\n",
    "                root[i, j] = (a[i, j] - s) * ir\n",
    "    return root"
   ]
  },
  {
   "cell_type": "code",
   "execution_count": 39,
   "metadata": {},
   "outputs": [
    {
     "name": "stdout",
     "output_type": "stream",
     "text": [
      "The matrix is positive semidefinite.\n"
     ]
    }
   ],
   "source": [
    "is_psd(pairwise_cov)"
   ]
  },
  {
   "cell_type": "markdown",
   "metadata": {},
   "source": [
    "d. Discuss when you might see data like this in the real world. (2pt)"
   ]
  },
  {
   "cell_type": "markdown",
   "metadata": {},
   "source": [
    "Problem 2\n",
    "\n",
    "2. “problem2.csv” contains data about a call option. Time to maturity is given in days. Assume 255 days in a year.\n",
    "\n",
    "<ol type=\"a\">\n",
    "  <li>Calculate the call price (1pt)</li>\n",
    "  <li>Calculate Delta (1pt)</li>\n",
    "  <li>Calculate Gamma (1pt)</li>\n",
    "  <li>Calculate Vega (1pt)</li>\n",
    "  <li>Calculate Rho (1pt)</li>\n",
    " Assume you are long 1 share of underlying and are short 1 call option. Using Monte Carlo assuming a Normal distribution of arithmetic returns where the implied volatility is the annual volatility and 0 mean \n",
    "  <li>Calculate VaR at 5% (2pt)</li>\n",
    "  <li>Calculate ES at 5% (2pt)</li>\n",
    "  <li>This portfolio’s payoff structure most closely resembles what? (1pt)</li>\n",
    "</ol>"
   ]
  },
  {
   "cell_type": "code",
   "execution_count": 23,
   "metadata": {},
   "outputs": [
    {
     "data": {
      "text/html": [
       "<div>\n",
       "<style scoped>\n",
       "    .dataframe tbody tr th:only-of-type {\n",
       "        vertical-align: middle;\n",
       "    }\n",
       "\n",
       "    .dataframe tbody tr th {\n",
       "        vertical-align: top;\n",
       "    }\n",
       "\n",
       "    .dataframe thead th {\n",
       "        text-align: right;\n",
       "    }\n",
       "</style>\n",
       "<table border=\"1\" class=\"dataframe\">\n",
       "  <thead>\n",
       "    <tr style=\"text-align: right;\">\n",
       "      <th></th>\n",
       "      <th>Underlying</th>\n",
       "      <th>Strike</th>\n",
       "      <th>IV</th>\n",
       "      <th>TTM</th>\n",
       "      <th>RF</th>\n",
       "      <th>DivRate</th>\n",
       "    </tr>\n",
       "  </thead>\n",
       "  <tbody>\n",
       "    <tr>\n",
       "      <th>0</th>\n",
       "      <td>104.439125</td>\n",
       "      <td>92.838916</td>\n",
       "      <td>0.17</td>\n",
       "      <td>173</td>\n",
       "      <td>0.045</td>\n",
       "      <td>0.046773</td>\n",
       "    </tr>\n",
       "  </tbody>\n",
       "</table>\n",
       "</div>"
      ],
      "text/plain": [
       "   Underlying     Strike    IV  TTM     RF   DivRate\n",
       "0  104.439125  92.838916  0.17  173  0.045  0.046773"
      ]
     },
     "execution_count": 23,
     "metadata": {},
     "output_type": "execute_result"
    }
   ],
   "source": [
    "problem2 = pd.read_csv('problem2.csv')\n",
    "problem2.head()"
   ]
  },
  {
   "cell_type": "code",
   "execution_count": 10,
   "metadata": {},
   "outputs": [
    {
     "name": "stdout",
     "output_type": "stream",
     "text": [
      "Call Price: 12.64468730412105\n",
      "Delta: 0.7910386533553834\n",
      "Gamma: 0.01759086228207317\n",
      "Vega: 22.129337982595665\n",
      "Rho: 47.47031633872305\n"
     ]
    }
   ],
   "source": [
    "import numpy as np\n",
    "from scipy.stats import norm\n",
    "\n",
    "# Given data from the CSV file\n",
    "underlying = 104.439125\n",
    "strike = 92.838916\n",
    "iv = 0.17  # Implied Volatility\n",
    "ttm_days = 173  # Time to maturity in days\n",
    "rf = 0.045  # Risk-Free Rate\n",
    "div_rate = 0.046773  # Dividend Rate\n",
    "\n",
    "# Convert Time to Maturity from days to years\n",
    "ttm = ttm_days / 255\n",
    "\n",
    "# Calculate d1 and d2\n",
    "d1 = (np.log(underlying / strike) + (rf - div_rate + 0.5 * iv**2) * ttm) / (iv * np.sqrt(ttm))\n",
    "d2 = d1 - iv * np.sqrt(ttm)\n",
    "\n",
    "# Calculate Call Price\n",
    "call_price = (underlying * np.exp(-div_rate * ttm) * norm.cdf(d1)) - (strike * np.exp(-rf * ttm) * norm.cdf(d2))\n",
    "\n",
    "# Calculate Greeks\n",
    "delta = np.exp(-div_rate * ttm) * norm.cdf(d1)\n",
    "gamma = np.exp(-div_rate * ttm) * norm.pdf(d1) / (underlying * iv * np.sqrt(ttm))\n",
    "vega = underlying * np.exp(-div_rate * ttm) * np.sqrt(ttm) * norm.pdf(d1)\n",
    "rho = strike * ttm * np.exp(-rf * ttm) * norm.cdf(d2)\n",
    "\n",
    "# Print results\n",
    "print(f\"Call Price: {call_price}\")\n",
    "print(f\"Delta: {delta}\")\n",
    "print(f\"Gamma: {gamma}\")\n",
    "print(f\"Vega: {vega}\")\n",
    "print(f\"Rho: {rho}\")\n"
   ]
  },
  {
   "cell_type": "code",
   "execution_count": 13,
   "metadata": {},
   "outputs": [],
   "source": [
    "def greeks(underlying_price, strike_price, risk_free_rate, implied_volatility, continuous_dividend_rate, current_date, expiration_date, option_type):\n",
    "    T = (expiration_date - current_date) / 255\n",
    "    r = risk_free_rate\n",
    "    q = continuous_dividend_rate\n",
    "    b = r - q\n",
    "    S = underlying_price\n",
    "    X = strike_price\n",
    "    sigma = implied_volatility\n",
    "\n",
    "    d1 = (np.log(S/X)+(b+(0.5*sigma**2))*T)/(sigma*np.sqrt(T))\n",
    "    d2 = d1 - sigma*np.sqrt(T)\n",
    "\n",
    "    # call_price = (underlying * np.exp(-div_rate * ttm) * norm.cdf(d1)) - (strike * np.exp(-rf * ttm) * norm.cdf(d2))\n",
    "\n",
    "    if option_type == 'call':\n",
    "        # Calculate Call Price\n",
    "        call_price = (underlying * np.exp(-div_rate * ttm) * norm.cdf(d1)) - (strike * np.exp(-rf * ttm) * norm.cdf(d2))\n",
    "        delta = np.exp((b-r)*T)*norm.cdf(d1)\n",
    "        theta = -1*(S*np.exp((b-r)*T)*norm.pdf(d1)*sigma)/(0.5*np.sqrt(T)) - (b-r)*S*np.exp((b-r)*T)*norm.cdf(d1) - r*X*np.exp(-r*T)*norm.cdf(d2)\n",
    "        rho = T*X*np.exp(-r*T)*norm.cdf(d2)\n",
    "        carry_rho = T*S*np.exp((b-r)*T)*norm.cdf(d2)\n",
    "\n",
    "    else:\n",
    "        delta = np.exp((b-r)*T)*(norm.cdf(d1) - 1)\n",
    "        theta = -1*(S*np.exp((b-r)*T)*norm.pdf(d1)*sigma)/(0.5*np.sqrt(T)) + (b-r)*S*np.exp((b-r)*T)*norm.cdf(-1*d1) + r*X*np.exp(-r*T)*norm.cdf(-1*d2)\n",
    "        rho = -1*T*X*np.exp(-r*T)*norm.cdf(-d2)\n",
    "        carry_rho = -1*T*S*np.exp((b-r)*T)*norm.cdf(-d2)\n",
    "\n",
    "    gamma = norm.pdf(d1)*np.exp((b-r)*T)/(S*sigma*(np.sqrt(T)))\n",
    "    vega = S*np.exp((b-r)*T)*norm.pdf(d1)*np.sqrt(T)\n",
    "\n",
    "    return call_price, delta, gamma, vega, theta, rho, carry_rho"
   ]
  },
  {
   "cell_type": "code",
   "execution_count": 25,
   "metadata": {},
   "outputs": [
    {
     "name": "stdout",
     "output_type": "stream",
     "text": [
      "Delta: 0.7910380211549434\n",
      "Gamma: 0.01759088566580787\n",
      "Vega: 22.129367220708858\n",
      "Rho: 47.47028488462286\n",
      "Call Price: 12.644667307128373\n"
     ]
    }
   ],
   "source": [
    "underlying = 104.439124578387\n",
    "strike = 92.8389161823596\n",
    "iv = 0.17  # Implied Volatility\n",
    "ttm_days = 173  # Time to maturity in days\n",
    "rf = 0.045  # Risk-Free Rate\n",
    "div_rate = 0.0467733483754155  # Dividend Rate\n",
    "\n",
    "call_price, delta, gamma, vega, theta, rho, carry_rho = greeks(underlying, strike, rf, iv, div_rate, 0, ttm_days, 'call')\n",
    "\n",
    "# print(greeks)\n",
    "\n",
    "print(f\"Delta: {delta}\")\n",
    "print(f\"Gamma: {gamma}\")\n",
    "print(f\"Vega: {vega}\")\n",
    "# print(f\"Theta: {theta}\")\n",
    "print(f\"Rho: {rho}\")\n",
    "# print(f\"Carry Rho: {carry_rho}\")\n",
    "print(f\"Call Price: {call_price}\")"
   ]
  },
  {
   "cell_type": "code",
   "execution_count": null,
   "metadata": {},
   "outputs": [],
   "source": [
    "#for the rho use the the finite difference method"
   ]
  },
  {
   "cell_type": "code",
   "execution_count": 15,
   "metadata": {},
   "outputs": [
    {
     "name": "stdout",
     "output_type": "stream",
     "text": [
      "12.64468730412105\n"
     ]
    }
   ],
   "source": [
    "a = greeks(underlying, strike, rf, iv, div_rate, 0, ttm_days, 'call')\n",
    "print(a[0])"
   ]
  },
  {
   "cell_type": "code",
   "execution_count": 16,
   "metadata": {},
   "outputs": [],
   "source": [
    "# Calculate VaR Normal Distribution: (Value at Risk)\n",
    "def calc_var_normal(mean, std_dev, alpha=0.05):\n",
    "    VaR = norm.ppf(alpha, loc=mean, scale=std_dev)\n",
    "\n",
    "    return -VaR\n",
    "\n",
    "# Calculte VaR T Distribution: (Value at Risk)\n",
    "def calc_var_t_dist(mean, std_dev, df, alpha=0.05):\n",
    "    VaR = t.ppf(q=alpha, df=df, loc=mean, scale=std_dev)\n",
    "\n",
    "    return -VaR\n",
    "\n",
    "# Calculate ES for Normal (expected shortfall)\n",
    "def calc_expected_shortfall_normal(mean, std_dev, alpha=0.05):\n",
    "    \n",
    "    # Calculate ES using the formula\n",
    "    es = -1*mean + (std_dev * norm.pdf(norm.ppf(alpha, mean, std_dev)) / alpha)\n",
    "\n",
    "    return es"
   ]
  },
  {
   "cell_type": "code",
   "execution_count": 18,
   "metadata": {},
   "outputs": [],
   "source": [
    "# Calculate options price\n",
    "def options_price(S, X, T, sigma, r, b, option_type='call'):\n",
    "    \"\"\"\n",
    "    S: Underlying Price\n",
    "    X: Strike\n",
    "    T: Time to Maturity(in years)\n",
    "    sigma: implied volatility\n",
    "    r: risk free rate\n",
    "    b: cost of carry -> r if black scholes, r-q if merton\n",
    "    \"\"\"\n",
    "    d1 = (math.log(S/X) + (b + 0.5*sigma**2)*T) / (sigma * math.sqrt(T))\n",
    "    d2 = d1 - sigma * math.sqrt(T)\n",
    "\n",
    "    if option_type == 'call':\n",
    "        return S * math.exp((b - r) * T) * norm.cdf(d1) - X * math.exp(-r * T) * norm.cdf(d2)\n",
    "    else:\n",
    "        return X * math.exp(-r * T) * norm.cdf(-d2) - S * math.exp((b - r) * T) * norm.cdf(-d1)\n"
   ]
  },
  {
   "cell_type": "code",
   "execution_count": 19,
   "metadata": {},
   "outputs": [
    {
     "name": "stdout",
     "output_type": "stream",
     "text": [
      "1.5150494482365175\n"
     ]
    }
   ],
   "source": [
    "underlying = 104.439125\n",
    "strike = 92.838916\n",
    "iv = 0.17  # Implied Volatility\n",
    "ttm_days = 173  # Time to maturity in days\n",
    "rf = 0.045  # Risk-Free Rate\n",
    "div_rate = 0.046773  # Dividend Rate\n",
    "\n",
    "putVal = options_price(underlying, strike, ttm_days/255, iv, rf, rf - div_rate, 'put')\n",
    "print(putVal)"
   ]
  },
  {
   "cell_type": "code",
   "execution_count": 37,
   "metadata": {},
   "outputs": [],
   "source": [
    "# Number of iterations and simulations\n",
    "iters = 1000\n",
    "n = 1000\n",
    "\n",
    "\n",
    "underlying = 104.439125\n",
    "strike = 92.838916\n",
    "iv = 0.17  # Implied Volatility\n",
    "ttm_days = 173  # Time to maturity in days\n",
    "rf = 0.045  # Risk-Free Rate\n",
    "div_rate = 0.046773  # Dividend Rate\n",
    "\n",
    "# Storage for VaR and ES\n",
    "vars = np.zeros(iters)\n",
    "ess = np.zeros(iters)\n",
    "\n",
    "# putVal = greeks(underlying, strike, rf, iv, div_rate, 0, ttm_days, 'put')\n",
    "# print(putVal)\n",
    "\n",
    "putVal = options_price(underlying, strike, ttm_days/255, iv, rf, rf - div_rate, 'put')\n",
    "\n",
    "call_val = options_price(underlying, strike, ttm_days/255, iv, rf, rf - div_rate, 'call')\n",
    "\n",
    "# call_option = np.array([options_price(simP[i], strike,(ttm_days-1)/255,iv,rf, rf - div_rate, 'call')                                    \n",
    "                            # for i in range(n)])\n",
    "# print(call_option.shape)\n",
    "# print(putVal)\n",
    "\n",
    "# greeks(simP[i], strike,rf,iv,div_rate,0,(ttm_days - 1), 'put')\n",
    "\n",
    "# Monte Carlo simulation\n",
    "for k in range(iters):\n",
    "    # Simulate end prices of the underlying asset\n",
    "    simP = (1 + np.random.normal(0, iv / np.sqrt(255), n)) * underlying\n",
    "    # print(type(simP))\n",
    "\n",
    "    # Simulate the PnL of the portfolio\n",
    "    # call_option = np.array([greeks(simP[i], strike,rf,iv,div_rate,0,(ttm_days - 1), 'call')\n",
    "\n",
    "    #                         for i in range(n)])\n",
    "\n",
    "    call_option = np.array([options_price(simP[i], strike,(ttm_days-1)/255,iv,rf, rf - div_rate, 'call')                                    \n",
    "                            for i in range(n)])\n",
    "    # print(call_option)\n",
    "    \n",
    "\n",
    "    \n",
    "    simPnL = simP - underlying - (call_option - call_val)\n",
    "\n",
    "    # Calculate VaR and ES\n",
    "    vars[k] = abs(np.percentile(simPnL, 5))\n",
    "    # var_noabs = np.percentile(simPnL, 5)\n",
    "    ess[k] = abs(simPnL[simPnL <= np.percentile(simPnL, 5)].mean())\n",
    "\n",
    "# print(f\"VaR: {vars.mean()}\")"
   ]
  },
  {
   "cell_type": "code",
   "execution_count": 31,
   "metadata": {},
   "outputs": [
    {
     "name": "stdout",
     "output_type": "stream",
     "text": [
      "VaR: [-11.52352722 -11.51568352 -11.53982752 -11.53427617 -11.52479623\n",
      " -11.52810899 -11.53721772 -11.54296404 -11.50865413 -11.51769816\n",
      " -11.54674501 -11.52666411 -11.5086747  -11.54107794 -11.50591309\n",
      " -11.55936663 -11.51789412 -11.54207051 -11.52942613 -11.50876971\n",
      " -11.54272753 -11.50608425 -11.55955309 -11.52679049 -11.54501159\n",
      " -11.56424868 -11.53314674 -11.49490797 -11.52104262 -11.50432983\n",
      " -11.50135151 -11.51709035 -11.54868428 -11.54067042 -11.49642701\n",
      " -11.53288079 -11.51966507 -11.56746363 -11.5326251  -11.52972363\n",
      " -11.53533443 -11.53512447 -11.5068424  -11.53984426 -11.53928656\n",
      " -11.53938708 -11.54580055 -11.53790464 -11.5340473  -11.51469128\n",
      " -11.5398964  -11.5332706  -11.54496939 -11.52009266 -11.55034034\n",
      " -11.54847981 -11.5617906  -11.55212852 -11.52311402 -11.53836876\n",
      " -11.52234081 -11.50519976 -11.53877655 -11.52774897 -11.53949591\n",
      " -11.55598313 -11.51981778 -11.53793667 -11.54873258 -11.52961965\n",
      " -11.51477888 -11.5219176  -11.56297049 -11.54656721 -11.55005534\n",
      " -11.56997799 -11.53414164 -11.54510577 -11.53120016 -11.52927355\n",
      " -11.52916542 -11.57236799 -11.55873216 -11.54290819 -11.55833894\n",
      " -11.51773859 -11.5299305  -11.55558636 -11.51786178 -11.51457601\n",
      " -11.5234053  -11.53912205 -11.52838057 -11.5352531  -11.53696502\n",
      " -11.49452466 -11.52407778 -11.53972836 -11.52780959 -11.52271083\n",
      " -11.54222564 -11.51570154 -11.49996547 -11.54837681 -11.5241092\n",
      " -11.5236933  -11.5277489  -11.55049551 -11.52645625 -11.55153566\n",
      " -11.51520144 -11.55903477 -11.54272369 -11.56448831 -11.537879\n",
      " -11.53634194 -11.53677961 -11.56992902 -11.54202817 -11.51094408\n",
      " -11.52577233 -11.53642301 -11.54199891 -11.51232043 -11.54075405\n",
      " -11.53259518 -11.55897114 -11.5171128  -11.53750584 -11.50755469\n",
      " -11.53587477 -11.54088176 -11.54642343 -11.54252156 -11.50949541\n",
      " -11.51328997 -11.53529528 -11.54510201 -11.56964551 -11.57011452\n",
      " -11.56407066 -11.57209793 -11.51967039 -11.52351427 -11.54367913\n",
      " -11.55007958 -11.52910265 -11.54045103 -11.50497811 -11.53694598\n",
      " -11.51046621 -11.54638975 -11.52080296 -11.54084669 -11.52180804\n",
      " -11.56756468 -11.51722699 -11.53112262 -11.52453034 -11.51605347\n",
      " -11.51251905 -11.52241926 -11.52158715 -11.5615656  -11.53487962\n",
      " -11.52943487 -11.50688388 -11.57577611 -11.53568319 -11.54697021\n",
      " -11.51278958 -11.51696388 -11.52983089 -11.53169356 -11.52725156\n",
      " -11.50096255 -11.52343863 -11.55657376 -11.52541517 -11.53923707\n",
      " -11.53928474 -11.5119778  -11.53811731 -11.54126179 -11.53852965\n",
      " -11.53252291 -11.55776582 -11.53115489 -11.53892787 -11.50434539\n",
      " -11.5476293  -11.53010923 -11.55630374 -11.55477466 -11.53005335\n",
      " -11.52582552 -11.5425953  -11.56142288 -11.57854516 -11.54769778\n",
      " -11.49187892 -11.49916091 -11.51455283 -11.52292282 -11.532195\n",
      " -11.52157198 -11.52958672 -11.54428556 -11.52655918 -11.54514314\n",
      " -11.55799319 -11.53191245 -11.54978436 -11.52766468 -11.50101734\n",
      " -11.52303552 -11.53017649 -11.52921327 -11.54080523 -11.54705262\n",
      " -11.52642224 -11.51774596 -11.52452736 -11.54842563 -11.52183941\n",
      " -11.51320065 -11.53021563 -11.49446743 -11.56288596 -11.53302988\n",
      " -11.55704477 -11.51073738 -11.54229301 -11.53013834 -11.55492212\n",
      " -11.5236318  -11.53327712 -11.5297643  -11.53061657 -11.56564921\n",
      " -11.52677861 -11.49465366 -11.51478316 -11.52742175 -11.53116721\n",
      " -11.53986683 -11.54444236 -11.49527949 -11.54401684 -11.57306143\n",
      " -11.5775584  -11.53192088 -11.52939254 -11.53387103 -11.53397368\n",
      " -11.51451674 -11.5322972  -11.53065094 -11.56230437 -11.53342653\n",
      " -11.51933181 -11.5487216  -11.53240601 -11.52723861 -11.52468809\n",
      " -11.52793969 -11.53012874 -11.53163809 -11.52920133 -11.51141959\n",
      " -11.52815142 -11.54405789 -11.55286698 -11.49520488 -11.5694492\n",
      " -11.50228016 -11.51921299 -11.53428954 -11.55659581 -11.52991472\n",
      " -11.51019758 -11.52636843 -11.51049613 -11.53554002 -11.5295492\n",
      " -11.55848216 -11.54209654 -11.53597843 -11.53894048 -11.52396485\n",
      " -11.51768874 -11.50301055 -11.53054001 -11.50371705 -11.51296163\n",
      " -11.55829239 -11.52631591 -11.51944724 -11.50108727 -11.50139778\n",
      " -11.53509719 -11.54180242 -11.50593791 -11.51433371 -11.52359604\n",
      " -11.52868188 -11.4998234  -11.54367751 -11.52795852 -11.50606902\n",
      " -11.53460373 -11.51859133 -11.53209266 -11.56043545 -11.56765965\n",
      " -11.54924056 -11.52352985 -11.50024785 -11.54990028 -11.53093327\n",
      " -11.53704385 -11.50239642 -11.51339334 -11.52396701 -11.54816887\n",
      " -11.53869976 -11.54143676 -11.53173102 -11.51949343 -11.53947144\n",
      " -11.53777919 -11.53564207 -11.52641459 -11.52876885 -11.54642751\n",
      " -11.52099715 -11.5402076  -11.50039258 -11.52868032 -11.56847158\n",
      " -11.53753051 -11.5240953  -11.54687737 -11.53190566 -11.53691099\n",
      " -11.52458362 -11.51723962 -11.53874173 -11.52956223 -11.53082357\n",
      " -11.51658335 -11.51940997 -11.52613908 -11.53568468 -11.51840845\n",
      " -11.56361854 -11.51671455 -11.52438824 -11.48936258 -11.56344269\n",
      " -11.54025682 -11.50641054 -11.54796627 -11.52993261 -11.51037151\n",
      " -11.51054833 -11.51227205 -11.54791786 -11.5181213  -11.51502909\n",
      " -11.50809141 -11.5439795  -11.53340799 -11.52882564 -11.51996876\n",
      " -11.520671   -11.53532105 -11.52434293 -11.55682611 -11.54202614\n",
      " -11.54551569 -11.51394599 -11.51954978 -11.52200883 -11.55147994\n",
      " -11.51198432 -11.56472604 -11.52786524 -11.53643524 -11.50815725\n",
      " -11.51265192 -11.53635395 -11.52717659 -11.52561308 -11.53679835\n",
      " -11.51317913 -11.52020234 -11.53281791 -11.52810921 -11.50673301\n",
      " -11.51456515 -11.53489469 -11.52600573 -11.55550048 -11.54779019\n",
      " -11.54988858 -11.55381044 -11.52070055 -11.53949387 -11.55446111\n",
      " -11.50830403 -11.5499042  -11.52833271 -11.53829237 -11.53075597\n",
      " -11.53751303 -11.54401678 -11.52031464 -11.55118498 -11.56306852\n",
      " -11.54222005 -11.51762207 -11.55321019 -11.56347682 -11.50736036\n",
      " -11.52527273 -11.51040343 -11.55461938 -11.51688303 -11.53611258\n",
      " -11.54251386 -11.5443358  -11.57937613 -11.54405117 -11.54221902\n",
      " -11.54518849 -11.53741478 -11.55726442 -11.52326837 -11.5627258\n",
      " -11.52469589 -11.50384633 -11.52683502 -11.54299172 -11.5034863\n",
      " -11.53555863 -11.52440477 -11.52906975 -11.53326383 -11.52955345\n",
      " -11.56873039 -11.53863633 -11.53847118 -11.50576165 -11.52308924\n",
      " -11.53734578 -11.53540316 -11.52174517 -11.5231409  -11.52716204\n",
      " -11.55674792 -11.50459746 -11.55695458 -11.56431293 -11.51429636\n",
      " -11.55329898 -11.50476324 -11.52991211 -11.55906019 -11.53205026\n",
      " -11.51524241 -11.50701918 -11.54360283 -11.56104911 -11.50862791\n",
      " -11.53952973 -11.53297759 -11.52176862 -11.52872749 -11.52890329\n",
      " -11.55011466 -11.52032604 -11.53443423 -11.52603963 -11.49432018\n",
      " -11.51032513 -11.50085462 -11.51382446 -11.5617883  -11.53993774\n",
      " -11.49838335 -11.52529849 -11.52004618 -11.52840116 -11.50900889\n",
      " -11.51160486 -11.54739671 -11.5342714  -11.55451642 -11.53685761\n",
      " -11.5300573  -11.52514192 -11.53361045 -11.53605057 -11.5221185\n",
      " -11.50875688 -11.53908189 -11.52128552 -11.54438717 -11.52534735\n",
      " -11.53451999 -11.49275166 -11.48887928 -11.51180017 -11.5215848\n",
      " -11.52603052 -11.52662456 -11.50017271 -11.53492586 -11.51987542\n",
      " -11.52931444 -11.53465946 -11.50551672 -11.51973598 -11.51081912\n",
      " -11.51970174 -11.53463074 -11.53613093 -11.54202603 -11.51619031\n",
      " -11.55558016 -11.54285386 -11.54688988 -11.55952115 -11.54134639\n",
      " -11.52964216 -11.52899525 -11.50663859 -11.50066276 -11.54416223\n",
      " -11.55394346 -11.52072537 -11.50518955 -11.52608041 -11.53285725\n",
      " -11.5452557  -11.55919341 -11.52406934 -11.50647936 -11.52267963\n",
      " -11.54680301 -11.55350614 -11.55491037 -11.50366723 -11.52735669\n",
      " -11.52571638 -11.52815313 -11.51338779 -11.49949465 -11.50596144\n",
      " -11.54291524 -11.55364593 -11.53454938 -11.53843696 -11.50422365\n",
      " -11.53986627 -11.53744594 -11.53845678 -11.55597524 -11.49880269\n",
      " -11.54086388 -11.54145089 -11.50306826 -11.54467282 -11.53501262\n",
      " -11.54580412 -11.51293577 -11.5456399  -11.53087852 -11.52356224\n",
      " -11.5236391  -11.5357059  -11.56395593 -11.5327332  -11.55587522\n",
      " -11.5299384  -11.52645495 -11.53001148 -11.51933631 -11.55743298\n",
      " -11.53734951 -11.53397586 -11.53475192 -11.5433079  -11.52779018\n",
      " -11.50548861 -11.47742927 -11.56417004 -11.51808419 -11.51852856\n",
      " -11.50016774 -11.49112309 -11.50212608 -11.52841082 -11.53923479\n",
      " -11.52401468 -11.51904549 -11.55318124 -11.52625854 -11.52747152\n",
      " -11.51765761 -11.50692824 -11.54841918 -11.50725557 -11.5093523\n",
      " -11.5298749  -11.54978476 -11.54778498 -11.54129384 -11.53178826\n",
      " -11.54869972 -11.5400827  -11.52538634 -11.5351096  -11.51750653\n",
      " -11.51894356 -11.57984655 -11.55892964 -11.58204278 -11.50657525\n",
      " -11.54546162 -11.55099098 -11.53116397 -11.54636128 -11.57000377\n",
      " -11.51207172 -11.53591472 -11.53411963 -11.55458331 -11.57809813\n",
      " -11.51821608 -11.53464411 -11.51948325 -11.54809645 -11.53689301\n",
      " -11.52307544 -11.53205793 -11.52993475 -11.54917622 -11.5491346\n",
      " -11.5358794  -11.53523174 -11.52238873 -11.53429906 -11.52177492\n",
      " -11.53949177 -11.53482707 -11.53672407 -11.58543159 -11.52638894\n",
      " -11.54024205 -11.54750295 -11.51756955 -11.54097389 -11.54447342\n",
      " -11.51553495 -11.5167263  -11.5405889  -11.54869596 -11.53973917\n",
      " -11.52040554 -11.5115955  -11.5313583  -11.54038321 -11.55914572\n",
      " -11.52655846 -11.55048768 -11.54603216 -11.53329612 -11.52206122\n",
      " -11.53885004 -11.55353508 -11.52139665 -11.53572781 -11.51468391\n",
      " -11.53131021 -11.51492784 -11.53204555 -11.52321525 -11.55243836\n",
      " -11.51742337 -11.52034583 -11.53678672 -11.56107497 -11.55807963\n",
      " -11.52273219 -11.53406935 -11.54443076 -11.55972878 -11.53579687\n",
      " -11.5426587  -11.51880963 -11.52339924 -11.53753669 -11.53778795\n",
      " -11.56344487 -11.49751925 -11.54556345 -11.52043714 -11.55633939\n",
      " -11.52107166 -11.52338779 -11.53215358 -11.52822743 -11.55780942\n",
      " -11.55166923 -11.47883354 -11.52373121 -11.53879594 -11.52772997\n",
      " -11.55971087 -11.5353075  -11.55252199 -11.54612611 -11.56109092\n",
      " -11.51807721 -11.51835716 -11.52196374 -11.51931    -11.53995034\n",
      " -11.52808021 -11.52395356 -11.53533269 -11.52980646 -11.51105615\n",
      " -11.53426739 -11.51333124 -11.53005848 -11.55816472 -11.51980804\n",
      " -11.51994549 -11.55917315 -11.55581249 -11.52980842 -11.54010323\n",
      " -11.50683282 -11.52596083 -11.52479513 -11.5300302  -11.54679491\n",
      " -11.55453331 -11.51519787 -11.56735532 -11.53799802 -11.51903426\n",
      " -11.53859778 -11.52879043 -11.53004975 -11.50015987 -11.55941925\n",
      " -11.55256874 -11.51074044 -11.49410954 -11.52464711 -11.53485136\n",
      " -11.50461681 -11.50414669 -11.52441821 -11.53528658 -11.51359791\n",
      " -11.54904617 -11.58010355 -11.53506343 -11.53410278 -11.54085305\n",
      " -11.49062232 -11.5271295  -11.54967279 -11.54357843 -11.52517055\n",
      " -11.53356383 -11.51713015 -11.5731302  -11.55575903 -11.53216564\n",
      " -11.55479647 -11.55230971 -11.53279764 -11.5345453  -11.53029467\n",
      " -11.50586098 -11.53592682 -11.51923726 -11.52875947 -11.5230274\n",
      " -11.51793206 -11.52826894 -11.52885157 -11.52286864 -11.53581051\n",
      " -11.53256132 -11.53920024 -11.53154339 -11.54436469 -11.52204066\n",
      " -11.54794159 -11.54998717 -11.51750969 -11.5263338  -11.52456107\n",
      " -11.53382435 -11.53448841 -11.56166761 -11.53138825 -11.52806136\n",
      " -11.55180008 -11.55327942 -11.56543922 -11.55976164 -11.50083997\n",
      " -11.51434809 -11.5155639  -11.54283614 -11.54531894 -11.53809439\n",
      " -11.55686372 -11.52025206 -11.53251484 -11.51114562 -11.53292334\n",
      " -11.50925411 -11.54188301 -11.54600111 -11.54503863 -11.53868348\n",
      " -11.53507422 -11.54552925 -11.55263997 -11.52443247 -11.54003778\n",
      " -11.51209218 -11.55805397 -11.5451399  -11.58707112 -11.50418298\n",
      " -11.55768188 -11.52995451 -11.52139813 -11.50742145 -11.53284715\n",
      " -11.51252617 -11.52424899 -11.50361864 -11.53858372 -11.5428409\n",
      " -11.55936862 -11.53161523 -11.54128459 -11.51195544 -11.51876803\n",
      " -11.52336026 -11.51189478 -11.54437934 -11.51123428 -11.53927461\n",
      " -11.50086377 -11.53373476 -11.55639044 -11.55144079 -11.54357268\n",
      " -11.52754669 -11.50169598 -11.52825305 -11.49241712 -11.51037347\n",
      " -11.54008964 -11.5360788  -11.55183293 -11.5500254  -11.54473524\n",
      " -11.53270402 -11.52060233 -11.50751679 -11.50595809 -11.53110793\n",
      " -11.5264918  -11.52363589 -11.50960202 -11.5300618  -11.47881715\n",
      " -11.50882032 -11.54624745 -11.5448396  -11.50015563 -11.52058702\n",
      " -11.50476079 -11.55365178 -11.55788463 -11.51327064 -11.57211848\n",
      " -11.51658284 -11.50547037 -11.53432389 -11.53626355 -11.54754157\n",
      " -11.51450022 -11.53375185 -11.54132162 -11.55250886 -11.52898755\n",
      " -11.53269493 -11.50742441 -11.55088824 -11.48864633 -11.53816651\n",
      " -11.5414487  -11.55473273 -11.55000217 -11.55521613 -11.52669774\n",
      " -11.57328234 -11.57204106 -11.53073301 -11.52192269 -11.5401796\n",
      " -11.50695185 -11.52897644 -11.550701   -11.54562309 -11.52252803\n",
      " -11.54331951 -11.55440313 -11.56482735 -11.54308892 -11.53450548\n",
      " -11.50997277 -11.51175657 -11.51577851 -11.55676541 -11.52321689\n",
      " -11.54089609 -11.53797957 -11.52148043 -11.53211662 -11.52176459\n",
      " -11.5689869  -11.55396401 -11.50655757 -11.5262113  -11.56691354\n",
      " -11.5507328  -11.5074605  -11.49713306 -11.54854992 -11.52823126\n",
      " -11.54848214 -11.5117787  -11.55121691 -11.5228827  -11.5021752\n",
      " -11.51397065 -11.54744573 -11.50582506 -11.52020793 -11.52313096\n",
      " -11.54367192 -11.50990029 -11.52303334 -11.54709747 -11.54667969\n",
      " -11.55454174 -11.53768506 -11.55354149 -11.5097752  -11.54395391\n",
      " -11.53014179 -11.50548642 -11.5588135  -11.52041492 -11.53465707\n",
      " -11.51977149 -11.53802223 -11.52841757 -11.52526154 -11.54712697\n",
      " -11.5232598  -11.53482457 -11.52333929 -11.49454662 -11.54119493\n",
      " -11.52188189 -11.51702372 -11.55064933 -11.5218476  -11.49753538\n",
      " -11.54153974 -11.57126333 -11.53805782 -11.50076805 -11.52867335]\n"
     ]
    }
   ],
   "source": [
    "# print(f\"VaR: {vars}\")"
   ]
  },
  {
   "cell_type": "code",
   "execution_count": 38,
   "metadata": {},
   "outputs": [
    {
     "name": "stdout",
     "output_type": "stream",
     "text": [
      "VaR: 0.4015665974396903\n",
      "ES: 0.5181065337520613\n"
     ]
    }
   ],
   "source": [
    "print(f\"VaR: {vars.mean()}\")\n",
    "# print(vars.shape)\n",
    "\n",
    "print(f\"ES: {ess.mean()}\")"
   ]
  },
  {
   "cell_type": "code",
   "execution_count": 104,
   "metadata": {},
   "outputs": [
    {
     "data": {
      "text/plain": [
       "0.8917581305618228"
      ]
     },
     "execution_count": 104,
     "metadata": {},
     "output_type": "execute_result"
    }
   ],
   "source": [
    "np.std(vars)"
   ]
  },
  {
   "cell_type": "code",
   "execution_count": 105,
   "metadata": {},
   "outputs": [
    {
     "data": {
      "text/plain": [
       "14.457089189361636"
      ]
     },
     "execution_count": 105,
     "metadata": {},
     "output_type": "execute_result"
    }
   ],
   "source": [
    "calc_var_normal(vars.mean(),np.std(vars), 0.05)"
   ]
  },
  {
   "cell_type": "code",
   "execution_count": 107,
   "metadata": {},
   "outputs": [
    {
     "data": {
      "text/plain": [
       "13.453358262763778"
      ]
     },
     "execution_count": 107,
     "metadata": {},
     "output_type": "execute_result"
    }
   ],
   "source": [
    "calc_expected_shortfall_normal(ess.mean(),np.std(ess), 0.05)"
   ]
  },
  {
   "cell_type": "markdown",
   "metadata": {},
   "source": [
    "talk to Qiyu upto this much"
   ]
  },
  {
   "cell_type": "markdown",
   "metadata": {},
   "source": [
    "- pricing function - black schole's model must be correct\n",
    "- american option tree\n",
    "- some portfolio functions\n",
    "- Gaussian copula - must be correct\n",
    "- Risk attribution, risk parity - go over the last week notes\n",
    "- VaR and ES\n",
    "- PSD and Non PSD correlation\n",
    "- Monte carlo simulation\n",
    "- go over the test files"
   ]
  },
  {
   "cell_type": "code",
   "execution_count": 51,
   "metadata": {},
   "outputs": [
    {
     "name": "stdout",
     "output_type": "stream",
     "text": [
      "VaR:  -0.4757538975030851\n",
      "ES:  -0.6461327952110566\n"
     ]
    }
   ],
   "source": [
    "import numpy as np\n",
    "from scipy.stats import norm\n",
    "\n",
    "# Assuming these are the option parameters similar to those in the Julia code\n",
    "optParams = {\n",
    "    'Underlying': 100,  # example underlying price\n",
    "    'Strike': 95,       # example strike price\n",
    "    'TTM': 30,          # time to maturity in days\n",
    "    'RF': 0.01,         # risk-free rate\n",
    "    'DivRate': 0.02,    # dividend rate\n",
    "    'IV': 0.2           # implied volatility\n",
    "}\n",
    "\n",
    "# Number of iterations and simulations\n",
    "iters = 1000\n",
    "n = 1000\n",
    "\n",
    "# Storage for VaR and ES\n",
    "vars = np.zeros(iters)\n",
    "ess = np.zeros(iters)\n",
    "\n",
    "# Function to calculate Black-Scholes call option price\n",
    "def black_scholes_call(S, K, T, r, q, sigma):\n",
    "    d1 = (np.log(S / K) + (r - q + 0.5 * sigma**2) * T) / (sigma * np.sqrt(T))\n",
    "    d2 = d1 - sigma * np.sqrt(T)\n",
    "    call_price = S * np.exp(-q * T) * norm.cdf(d1) - K * np.exp(-r * T) * norm.cdf(d2)\n",
    "    return call_price\n",
    "\n",
    "# Initial call value\n",
    "putVal = black_scholes_call(optParams['Underlying'], optParams['Strike'],\n",
    "                            optParams['TTM'] / 255, optParams['RF'],\n",
    "                            optParams['RF'] - optParams['DivRate'], optParams['IV'])\n",
    "\n",
    "# Monte Carlo simulation\n",
    "for k in range(iters):\n",
    "    # Simulate end prices of the underlying asset\n",
    "    simP = (1 + np.random.normal(0, optParams['IV'] / np.sqrt(255), n)) * optParams['Underlying']\n",
    "\n",
    "    # Simulate the PnL of the portfolio\n",
    "    call_prices = np.array([black_scholes_call(simP[i], optParams['Strike'], \n",
    "                                               (optParams['TTM'] - 1) / 255, \n",
    "                                               optParams['RF'], \n",
    "                                               optParams['RF'] - optParams['DivRate'], \n",
    "                                               optParams['IV']) \n",
    "                            for i in range(n)])\n",
    "    simPnL = simP - optParams['Underlying'] - (call_prices - putVal)\n",
    "\n",
    "    # Calculate VaR and ES\n",
    "    vars[k] = np.percentile(simPnL, 5)\n",
    "    ess[k] = simPnL[simPnL <= vars[k]].mean()\n",
    "\n",
    "# Output results\n",
    "print(\"VaR: \", np.mean(vars))\n",
    "print(\"ES: \", np.mean(ess))\n"
   ]
  },
  {
   "cell_type": "markdown",
   "metadata": {},
   "source": [
    "Data in “problem2_cov.csv” is the covariance for 3 assets. “problem3_ER.csv” is the expected return for each asset as well as the risk free rate.\n",
    "a. Calculate the Maximum Sharpe Ratio Portfolio (4pt)\n",
    "b. Calculate the Risk Parity Portfolio (4pt)\n",
    "c. Compare the differences between the portfolio and explain why. (2pt)"
   ]
  },
  {
   "cell_type": "code",
   "execution_count": 42,
   "metadata": {},
   "outputs": [
    {
     "data": {
      "text/html": [
       "<div>\n",
       "<style scoped>\n",
       "    .dataframe tbody tr th:only-of-type {\n",
       "        vertical-align: middle;\n",
       "    }\n",
       "\n",
       "    .dataframe tbody tr th {\n",
       "        vertical-align: top;\n",
       "    }\n",
       "\n",
       "    .dataframe thead th {\n",
       "        text-align: right;\n",
       "    }\n",
       "</style>\n",
       "<table border=\"1\" class=\"dataframe\">\n",
       "  <thead>\n",
       "    <tr style=\"text-align: right;\">\n",
       "      <th></th>\n",
       "      <th>RF</th>\n",
       "      <th>Expected_Value_1</th>\n",
       "      <th>Expected_Value_2</th>\n",
       "      <th>Expected_Value_3</th>\n",
       "    </tr>\n",
       "  </thead>\n",
       "  <tbody>\n",
       "    <tr>\n",
       "      <th>0</th>\n",
       "      <td>0.045</td>\n",
       "      <td>0.142568</td>\n",
       "      <td>0.12131</td>\n",
       "      <td>0.148162</td>\n",
       "    </tr>\n",
       "  </tbody>\n",
       "</table>\n",
       "</div>"
      ],
      "text/plain": [
       "      RF  Expected_Value_1  Expected_Value_2  Expected_Value_3\n",
       "0  0.045          0.142568           0.12131          0.148162"
      ]
     },
     "execution_count": 42,
     "metadata": {},
     "output_type": "execute_result"
    }
   ],
   "source": [
    "problem3_cov = pd.read_csv('problem3_cov.csv')\n",
    "problem3_ER = pd.read_csv('problem3_ER.csv')\n",
    "\n",
    "# problem3_cov.head(10)\n",
    "problem3_ER.head(10)"
   ]
  },
  {
   "cell_type": "code",
   "execution_count": 43,
   "metadata": {},
   "outputs": [
    {
     "data": {
      "text/html": [
       "<div>\n",
       "<style scoped>\n",
       "    .dataframe tbody tr th:only-of-type {\n",
       "        vertical-align: middle;\n",
       "    }\n",
       "\n",
       "    .dataframe tbody tr th {\n",
       "        vertical-align: top;\n",
       "    }\n",
       "\n",
       "    .dataframe thead th {\n",
       "        text-align: right;\n",
       "    }\n",
       "</style>\n",
       "<table border=\"1\" class=\"dataframe\">\n",
       "  <thead>\n",
       "    <tr style=\"text-align: right;\">\n",
       "      <th></th>\n",
       "      <th>Asset1</th>\n",
       "      <th>Asset2</th>\n",
       "      <th>Asset3</th>\n",
       "    </tr>\n",
       "  </thead>\n",
       "  <tbody>\n",
       "    <tr>\n",
       "      <th>0</th>\n",
       "      <td>0.049384</td>\n",
       "      <td>0.029740</td>\n",
       "      <td>0.040206</td>\n",
       "    </tr>\n",
       "    <tr>\n",
       "      <th>1</th>\n",
       "      <td>0.029740</td>\n",
       "      <td>0.030208</td>\n",
       "      <td>0.031445</td>\n",
       "    </tr>\n",
       "    <tr>\n",
       "      <th>2</th>\n",
       "      <td>0.040206</td>\n",
       "      <td>0.031445</td>\n",
       "      <td>0.055209</td>\n",
       "    </tr>\n",
       "  </tbody>\n",
       "</table>\n",
       "</div>"
      ],
      "text/plain": [
       "     Asset1    Asset2    Asset3\n",
       "0  0.049384  0.029740  0.040206\n",
       "1  0.029740  0.030208  0.031445\n",
       "2  0.040206  0.031445  0.055209"
      ]
     },
     "execution_count": 43,
     "metadata": {},
     "output_type": "execute_result"
    }
   ],
   "source": [
    "problem3_cov"
   ]
  },
  {
   "cell_type": "markdown",
   "metadata": {},
   "source": [
    "This one should go to the risk library. this was done using week 07 sharpe ratio formula. below is the actual code"
   ]
  },
  {
   "cell_type": "code",
   "execution_count": 2,
   "metadata": {},
   "outputs": [
    {
     "data": {
      "image/png": "[encoded data removed]",
      "text/plain": [
       "<Figure size 640x480 with 1 Axes>"
      ]
     },
     "metadata": {},
     "output_type": "display_data"
    },
    {
     "name": "stdout",
     "output_type": "stream",
     "text": [
      "Portfolio Weights at the Maximum Sharpe Ratio: [0.3 0.7 0. ]\n",
      "Portfolio Return : 0.04300000000000001\n",
      "Portfolio Risk   : 0.11269427669584652\n",
      "Portfolio SR     : 0.11535634622409482\n",
      "Risk Parity Portfolio Weights: [0.15236386 0.23798327 0.60965287]\n",
      "Risk Parity Portfolio Risk   : 0.062247719983597176\n",
      "Risk Parity Portfolio Return : 0.03542710986236194\n",
      "Risk Parity Portfolio SR     : 0.08718568107863275\n"
     ]
    }
   ],
   "source": [
    "import numpy as np\n",
    "import pandas as pd\n",
    "from scipy.optimize import minimize\n",
    "import matplotlib.pyplot as plt\n",
    "\n",
    "# Sample data\n",
    "corr = np.array([[1, 0.5, 0],\n",
    "                 [0.5, 1, 0.5],\n",
    "                 [0, 0.5, 1]])\n",
    "sd = np.array([0.2, 0.1, 0.05])\n",
    "er = np.array([0.05, 0.04, 0.03])\n",
    "\n",
    "# Calculate covariance matrix\n",
    "covar = np.diag(sd) @ corr @ np.diag(sd)\n",
    "\n",
    "def optimize_risk(R, er, covar):\n",
    "    n = len(er)\n",
    "\n",
    "    def objective(w):\n",
    "        return w.T @ covar @ w\n",
    "\n",
    "    constraints = [\n",
    "        {'type': 'eq', 'fun': lambda w: np.sum(w) - 1},\n",
    "        {'type': 'eq', 'fun': lambda w: w @ er - R}\n",
    "    ]\n",
    "    bounds = [(0, 1) for _ in range(n)]\n",
    "    init_guess = np.array([1/n] * n)\n",
    "    result = minimize(objective, init_guess, method='SLSQP', bounds=bounds, constraints=constraints)\n",
    "    \n",
    "    return {'risk': result.fun, 'weights': result.x, 'R': R}\n",
    "\n",
    "# Construct efficient frontier\n",
    "returns = np.arange(0.03, 0.051, 0.001)\n",
    "optim_portfolios = pd.DataFrame([optimize_risk(R, er, covar) for R in returns])\n",
    "\n",
    "# Calculate Sharpe Ratios and find Max SR\n",
    "rf = 0.03\n",
    "optim_portfolios['SR'] = (optim_portfolios['R'] - rf) / np.sqrt(optim_portfolios['risk'])\n",
    "maxSR_idx = optim_portfolios['SR'].idxmax()\n",
    "maxSR_info = optim_portfolios.iloc[maxSR_idx]\n",
    "\n",
    "# Plot Efficient Frontier\n",
    "plt.plot(np.sqrt(optim_portfolios['risk']), optim_portfolios['R'], label='Efficient Frontier')\n",
    "plt.xlabel('Risk - SD')\n",
    "plt.ylabel('Portfolio Expected Return')\n",
    "\n",
    "# Add line and scatter plot for Max SR Portfolio\n",
    "w = np.arange(0, 2.1, 0.1)\n",
    "returns_line = maxSR_info['R'] * w + rf * (1 - w)\n",
    "risks_line = np.sqrt(maxSR_info['risk']) * w\n",
    "plt.plot(risks_line, returns_line, label=\"\", color=\"red\")\n",
    "plt.scatter([np.sqrt(maxSR_info['risk'])], [maxSR_info['R']], label=\"Max SR Portfolio\", color=\"blue\")\n",
    "\n",
    "plt.legend(loc=\"upper left\")\n",
    "plt.show()\n",
    "\n",
    "# Print Max SR Portfolio details\n",
    "print(f\"Portfolio Weights at the Maximum Sharpe Ratio: {maxSR_info['weights']}\")\n",
    "print(f\"Portfolio Return : {maxSR_info['R']}\")\n",
    "print(f\"Portfolio Risk   : {np.sqrt(maxSR_info['risk'])}\")\n",
    "print(f\"Portfolio SR     : {maxSR_info['SR']}\")\n",
    "\n",
    "\n",
    "def optimize_risk_parity(covar):\n",
    "    n = len(covar)\n",
    "\n",
    "    def objective(w):\n",
    "        portfolio_variance = np.dot(w, np.dot(covar, w))\n",
    "        individual_risk_contributions = w * np.dot(covar, w) / portfolio_variance\n",
    "        return np.sum((individual_risk_contributions - 1/n)**2)\n",
    "\n",
    "    constraints = [{'type': 'eq', 'fun': lambda w: np.sum(w) - 1}]\n",
    "    bounds = [(0, 1) for _ in range(n)]\n",
    "    init_guess = np.array([1/n] * n)\n",
    "    result = minimize(objective, init_guess, method='SLSQP', bounds=bounds, constraints=constraints)\n",
    "    \n",
    "    return {'weights': result.x, 'risk': np.dot(result.x, np.dot(covar, result.x))}\n",
    "\n",
    "risk_parity_portfolio = optimize_risk_parity(covar)\n",
    "\n",
    "\n",
    "# ... [existing code for Maximum SR Portfolio] ...\n",
    "\n",
    "# Print Risk Parity Portfolio details\n",
    "print(f\"Risk Parity Portfolio Weights: {risk_parity_portfolio['weights']}\")\n",
    "print(f\"Risk Parity Portfolio Risk   : {np.sqrt(risk_parity_portfolio['risk'])}\")\n",
    "\n",
    "# Calculate expected return and Sharpe Ratio for Risk Parity Portfolio\n",
    "rp_er = np.dot(risk_parity_portfolio['weights'], er)\n",
    "rp_sr = (rp_er - rf) / np.sqrt(risk_parity_portfolio['risk'])\n",
    "print(f\"Risk Parity Portfolio Return : {rp_er}\")\n",
    "print(f\"Risk Parity Portfolio SR     : {rp_sr}\")\n"
   ]
  },
  {
   "cell_type": "code",
   "execution_count": 205,
   "metadata": {},
   "outputs": [
    {
     "name": "stdout",
     "output_type": "stream",
     "text": [
      "[[0.04938377 0.02974029 0.04020556]\n",
      " [0.02974029 0.03020819 0.03144534]\n",
      " [0.04020556 0.03144534 0.05520859]]\n"
     ]
    }
   ],
   "source": [
    "import pandas as pd\n",
    "import numpy as np\n",
    "from scipy.optimize import minimize\n",
    "\n",
    "# Reading covariance data\n",
    "covar_df = pd.read_csv('problem3_cov.csv')\n",
    "covar = covar_df.to_numpy()\n",
    "print(covar)\n",
    "\n",
    "# Reading expected return data\n",
    "er_df = pd.read_csv('problem3_ER.csv')\n",
    "rf = er_df['RF'][0]\n",
    "# print(rf)\n",
    "er = er_df.drop(columns=['RF']).to_numpy().flatten()\n",
    "# print(er)\n"
   ]
  },
  {
   "cell_type": "markdown",
   "metadata": {},
   "source": [
    "Notes\n",
    "- The sr function is modified to return the negative of the Sharpe Ratio because the minimize function in SciPy performs minimization, and we want to maximize the Sharpe Ratio.\n",
    "- The pvol, pCSD, and sseCSD functions are translated directly from the Julia code.\n",
    "- The optimization problems use SciPy's minimize function with Sequential Least Squares Programming (SLSQP) method.\n",
    "- Ensure that the CSV files are correctly read and that their paths are accurate.\n",
    "- This code assumes that the covariance and expected return data are formatted similarly to how they were used in the Julia code."
   ]
  },
  {
   "cell_type": "code",
   "execution_count": 206,
   "metadata": {},
   "outputs": [],
   "source": [
    "# The sr function is modified to return the negative of the Sharpe Ratio because the minimize function in SciPy performs minimization, \n",
    "# and we want to maximize the Sharpe Ratio.\n",
    "# Sharpe Ratio Function\n",
    "def sr(w, er, covar, rf):\n",
    "    m = np.dot(w, er) - rf\n",
    "    s = np.sqrt(np.dot(w, np.dot(covar, w)))\n",
    "    return -m/s  # Negative for minimization\n",
    "\n",
    "# Portfolio Volatility Function\n",
    "def pvol(w, covar):\n",
    "    return np.sqrt(np.dot(w, np.dot(covar, w)))\n",
    "\n",
    "# Component Standard Deviation Function\n",
    "def pCSD(w, covar):\n",
    "    p_vol = pvol(w, covar)\n",
    "    csd = w * np.dot(covar, w) / p_vol\n",
    "    return csd\n",
    "\n",
    "# Sum Square Error of Component Standard Deviation\n",
    "def sseCSD(w, covar):\n",
    "    csd = pCSD(w, covar)\n",
    "    mCSD = np.mean(csd)\n",
    "    dCsd = csd - mCSD\n",
    "    return 1.0e5 * np.sum(dCsd**2)\n"
   ]
  },
  {
   "cell_type": "code",
   "execution_count": 209,
   "metadata": {},
   "outputs": [
    {
     "name": "stdout",
     "output_type": "stream",
     "text": [
      "Max SR Weights: [0.3144 0.3961 0.2895]\n"
     ]
    }
   ],
   "source": [
    "# Constraints and bounds\n",
    "cons = ({'type': 'eq', 'fun': lambda w: np.sum(w) - 1})\n",
    "bounds = [(0, np.inf)] * len(er)\n",
    "initial_guess = np.array([1/len(er)] * len(er))\n",
    "\n",
    "# The optimization problems use SciPy's minimize function with Sequential Least Squares Programming (SLSQP) method.\n",
    "\n",
    "# Optimization for Maximum SR\n",
    "result_sr = minimize(sr, initial_guess, args=(er, covar, rf), bounds=bounds, constraints=cons)\n",
    "wSR = np.round(result_sr.x, 4)\n",
    "\n",
    "print(\"Max SR Weights:\", wSR)\n"
   ]
  },
  {
   "cell_type": "code",
   "execution_count": 208,
   "metadata": {},
   "outputs": [
    {
     "name": "stdout",
     "output_type": "stream",
     "text": [
      "Risk Parity Weights: [0.3101 0.3965 0.2933]\n"
     ]
    }
   ],
   "source": [
    "# Optimization for Risk Parity\n",
    "result_rp = minimize(sseCSD, initial_guess, args=(covar,), method='SLSQP', bounds=bounds, constraints=cons)\n",
    "wRP = np.round(result_rp.x, 4)\n",
    "\n",
    "print(\"Risk Parity Weights:\", wRP)\n"
   ]
  },
  {
   "cell_type": "markdown",
   "metadata": {},
   "source": [
    "In the comparison of Maximum Sharpe Ratio (SR) and Risk Parity portfolios using the same dataset for covariance and expected returns, the observed weights ([0.3144, 0.3961, 0.2895] for Max SR and [0.3101, 0.3965, 0.2933] for Risk Parity) are strikingly similar, which is somewhat atypical for these distinct strategies. This similarity suggests that the assets in the dataset likely have closely aligned risk-return profiles, leading both strategies to converge towards similar allocations. While the Maximum SR strategy aims to maximize returns per unit of risk, typically favoring assets with higher risk-adjusted returns, and the Risk Parity approach focuses on equalizing risk contribution across assets, the minor differences in weights imply a subtle rebalancing in the Risk Parity strategy to achieve equal risk contribution. However, the closeness in the allocation indicates that the assets' characteristics, in terms of volatility, correlation, and expected returns, are such that both maximizing Sharpe Ratio and achieving risk parity lead to almost identical portfolio compositions. This convergence is indicative of a balanced risk-return trade-off within the selected assets, which is an intriguing scenario and might not be as pronounced with a different set of assets or under varying market conditions."
   ]
  },
  {
   "cell_type": "markdown",
   "metadata": {},
   "source": [
    "Problem 4\n",
    "\n",
    "- Data in “problem4_returns.csv” is a series of returns for 3 assets. “problem4_startWeight.csv” is the starting weights of a portfolio of these assets as of the first day in the return series.\n",
    "\n",
    "a. Calculate the new weights for the start of each time period (2pt)\n",
    "\n",
    "b. Calculate the ex-post return attribution of the portfolio on each asset (4pt)\n",
    "\n",
    "c. Calculate the ex-post risk attribution of the portfolio on each asset (2pt)"
   ]
  },
  {
   "cell_type": "markdown",
   "metadata": {},
   "source": [
    "Using spring 2022 final exam data, ex-post return attribution of the portfolio of each asset is calculated below:"
   ]
  },
  {
   "cell_type": "code",
   "execution_count": 10,
   "metadata": {},
   "outputs": [
    {
     "name": "stdout",
     "output_type": "stream",
     "text": [
      "                Value         A         B         C  Portfolio\n",
      "0         TotalReturn  0.053001 -0.089135  0.182844   0.037996\n",
      "1  Return Attribution  0.027999 -0.021996  0.045425   0.037996\n"
     ]
    }
   ],
   "source": [
    "import pandas as pd\n",
    "import numpy as np\n",
    "\n",
    "# Reading the data\n",
    "upReturns = pd.read_csv(\"/Users/ahmedibrahim/Desktop/Mids/Fall24/Quantitative Risk Management/exam prep/FinTech545/OldFinals/Spring2022/question10.csv\")\n",
    "\n",
    "# Initial Weights and Parameters\n",
    "w = np.array([0.55, 0.27, 0.18])\n",
    "stocks = ['A', 'B', 'C']\n",
    "n = len(upReturns)\n",
    "m = len(stocks)\n",
    "\n",
    "pReturn = np.zeros(n)\n",
    "weights = np.zeros((n, len(w)))\n",
    "lastW = np.copy(w)\n",
    "matReturns = upReturns[stocks].values\n",
    "\n",
    "# Calculate portfolio return and updated weights for each day\n",
    "for i in range(n):\n",
    "    # Update Weights by return\n",
    "    lastW = lastW * (1.0 + matReturns[i, :])\n",
    "    \n",
    "    # Portfolio return is the sum of the updated weights\n",
    "    pR = np.sum(lastW)\n",
    "    \n",
    "    # Normalize the weights back so sum = 1\n",
    "    lastW = lastW / pR\n",
    "    \n",
    "    # Store the return\n",
    "    pReturn[i] = pR - 1\n",
    "    weights[i, :] = lastW\n",
    "\n",
    "# Set the portfolio return in the Update Return DataFrame\n",
    "upReturns['Portfolio'] = pReturn\n",
    "\n",
    "# Calculate the total return\n",
    "totalRet = np.exp(np.sum(np.log(pReturn + 1))) - 1\n",
    "\n",
    "# Calculate the Carino K\n",
    "k = np.log(totalRet + 1) / totalRet\n",
    "\n",
    "# Carino k_t is the ratio scaled by 1/K \n",
    "carinoK = np.log(1.0 + pReturn) / pReturn / k\n",
    "\n",
    "# Calculate the return attribution\n",
    "attrib = pd.DataFrame(matReturns * weights * carinoK[:, np.newaxis], columns=stocks)\n",
    "\n",
    "# Set up a DataFrame for output\n",
    "Attribution = pd.DataFrame(columns=['Value'] + stocks + ['Portfolio'])\n",
    "Attribution['Value'] = [\"TotalReturn\", \"Return Attribution\"]\n",
    "\n",
    "# Loop over the stocks\n",
    "for s in stocks + ['Portfolio']:\n",
    "    tr = np.exp(np.sum(np.log(upReturns[s] + 1))) - 1\n",
    "    atr = tr if s == 'Portfolio' else np.sum(attrib[s])\n",
    "    Attribution[s] = [tr, atr]\n",
    "\n",
    "print(Attribution)\n"
   ]
  },
  {
   "cell_type": "code",
   "execution_count": 210,
   "metadata": {},
   "outputs": [],
   "source": [
    "# import pandas as pd\n",
    "\n",
    "# Read the returns and starting weights data\n",
    "returns_df = pd.read_csv('problem4_returns.csv')\n",
    "#drop the date column from returns\n",
    "returns_df = returns_df.drop('Date', axis=1)\n",
    "start_weights_df = pd.read_csv('problem4_startWeight.csv')\n",
    "\n",
    "# Convert DataFrames to numpy arrays for calculations\n",
    "returns = returns_df.to_numpy()\n",
    "# print(returns.shape)\n",
    "start_weights = start_weights_df.to_numpy().flatten()  # Assuming single row for start weights\n",
    "# start_weights\n"
   ]
  },
  {
   "cell_type": "code",
   "execution_count": 211,
   "metadata": {},
   "outputs": [],
   "source": [
    "n_days = len(returns)\n",
    "n_assets = len(start_weights)\n",
    "new_weights = np.zeros((n_days, n_assets))\n",
    "\n",
    "# Initial weights\n",
    "current_weights = start_weights.copy()\n",
    "\n",
    "for i in range(n_days):\n",
    "    # Update weights by returns\n",
    "    current_weights *= (1 + returns[i])\n",
    "    # Normalize to ensure weights sum to 1\n",
    "    current_weights /= np.sum(current_weights)\n",
    "    new_weights[i] = current_weights\n"
   ]
  },
  {
   "cell_type": "code",
   "execution_count": 212,
   "metadata": {},
   "outputs": [
    {
     "name": "stdout",
     "output_type": "stream",
     "text": [
      "[[-1.74171652e-02  4.92576168e-03 -6.17399126e-03]\n",
      " [-3.05325274e-02  1.85874267e-02 -9.41808602e-05]\n",
      " [-2.88836333e-02 -4.93497480e-02 -5.18728474e-03]\n",
      " [-3.37702323e-02  5.36337521e-02 -8.47222948e-03]\n",
      " [-1.01939010e-02 -2.73426708e-02 -1.83474615e-03]\n",
      " [ 2.29762390e-02  8.81046032e-04 -3.99816954e-03]\n",
      " [ 4.35262505e-02 -4.00695665e-03  3.98596192e-03]\n",
      " [ 3.95574579e-03 -4.05881151e-03  3.62308715e-03]\n",
      " [-2.26540753e-03  2.75633741e-02  9.05860580e-03]\n",
      " [ 9.59603805e-03  3.97342704e-02 -8.92225544e-03]\n",
      " [ 4.18164792e-03  6.13494818e-03  1.25462738e-02]\n",
      " [ 4.09804153e-02  2.74883167e-02  1.69946852e-02]\n",
      " [-3.64265326e-02  9.96590445e-03 -2.19121491e-03]\n",
      " [-2.51212140e-02 -3.54520797e-02  2.58027738e-03]\n",
      " [ 3.11317808e-02  4.82999046e-02  1.85621774e-04]\n",
      " [-2.15282876e-02  5.79544380e-02  1.50115091e-03]\n",
      " [-1.14605924e-02 -2.04578362e-02  5.51000983e-03]\n",
      " [-1.35215117e-02  8.75583334e-03 -6.55306104e-03]\n",
      " [ 1.08042227e-02  8.00310247e-02 -4.42960041e-03]\n",
      " [-2.82745609e-04  4.54688212e-02 -7.69147841e-03]]\n"
     ]
    }
   ],
   "source": [
    "#Calculate Ex-Post Return Attribution\n",
    "return_attribution = returns * new_weights\n",
    "print(return_attribution)"
   ]
  },
  {
   "cell_type": "code",
   "execution_count": 213,
   "metadata": {},
   "outputs": [
    {
     "name": "stdout",
     "output_type": "stream",
     "text": [
      "[0.0236237  0.032742   0.00692421]\n"
     ]
    }
   ],
   "source": [
    "# Assuming risk is measured as standard deviation of returns\n",
    "risk_attribution = np.std(return_attribution, axis=0)\n",
    "print(risk_attribution)"
   ]
  },
  {
   "cell_type": "code",
   "execution_count": 214,
   "metadata": {},
   "outputs": [
    {
     "name": "stdout",
     "output_type": "stream",
     "text": [
      "New Weights for Each Time Period:\n",
      "[[0.34210284 0.5480893  0.10980786]\n",
      " [0.31372246 0.57481651 0.11146103]\n",
      " [0.31051111 0.57328407 0.11620482]\n",
      " [0.27144457 0.62173909 0.10681634]\n",
      " [0.27200032 0.61866311 0.10933657]\n",
      " [0.28838474 0.60840618 0.10320908]\n",
      " [0.31566213 0.58121875 0.10311912]\n",
      " [0.31852034 0.57519958 0.10628008]\n",
      " [0.30591389 0.58287454 0.11121157]\n",
      " [0.30397675 0.59872067 0.09730259]\n",
      " [0.30159007 0.59196818 0.10644175]\n",
      " [0.31454645 0.57246255 0.11299099]\n",
      " [0.2835158  0.60185979 0.11462441]\n",
      " [0.27366112 0.60198787 0.124351  ]\n",
      " [0.28173533 0.60279804 0.11546663]\n",
      " [0.24942763 0.63720858 0.11336379]\n",
      " [0.2443604  0.6338422  0.1217974 ]\n",
      " [0.23309951 0.65050531 0.11639518]\n",
      " [0.22541595 0.67180285 0.1027812 ]\n",
      " [0.21747357 0.69164014 0.09088629]]\n",
      "Ex-Post Return Attribution for Each Asset:\n",
      "[-0.06425141  0.28875672  0.00043746]\n",
      "Ex-Post Risk Attribution for Each Asset:\n",
      "[0.0236237  0.032742   0.00692421]\n"
     ]
    }
   ],
   "source": [
    "print(\"New Weights for Each Time Period:\")\n",
    "print(new_weights)\n",
    "\n",
    "print(\"Ex-Post Return Attribution for Each Asset:\")\n",
    "print(return_attribution.sum(axis=0))\n",
    "\n",
    "print(\"Ex-Post Risk Attribution for Each Asset:\")\n",
    "print(risk_attribution)\n"
   ]
  },
  {
   "cell_type": "markdown",
   "metadata": {},
   "source": [
    "New Q4"
   ]
  },
  {
   "cell_type": "markdown",
   "metadata": {},
   "source": [
    "b. Calculate the ex-post return attribution of the portfolio on each asset (4pt)"
   ]
  },
  {
   "cell_type": "code",
   "execution_count": 216,
   "metadata": {},
   "outputs": [
    {
     "data": {
      "text/html": [
       "<div>\n",
       "<style scoped>\n",
       "    .dataframe tbody tr th:only-of-type {\n",
       "        vertical-align: middle;\n",
       "    }\n",
       "\n",
       "    .dataframe tbody tr th {\n",
       "        vertical-align: top;\n",
       "    }\n",
       "\n",
       "    .dataframe thead th {\n",
       "        text-align: right;\n",
       "    }\n",
       "</style>\n",
       "<table border=\"1\" class=\"dataframe\">\n",
       "  <thead>\n",
       "    <tr style=\"text-align: right;\">\n",
       "      <th></th>\n",
       "      <th>Asset1</th>\n",
       "      <th>Asset2</th>\n",
       "      <th>Asset3</th>\n",
       "    </tr>\n",
       "    <tr>\n",
       "      <th>Date</th>\n",
       "      <th></th>\n",
       "      <th></th>\n",
       "      <th></th>\n",
       "    </tr>\n",
       "  </thead>\n",
       "  <tbody>\n",
       "    <tr>\n",
       "      <th>2023-11-26</th>\n",
       "      <td>-0.050912</td>\n",
       "      <td>0.008987</td>\n",
       "      <td>-0.056225</td>\n",
       "    </tr>\n",
       "    <tr>\n",
       "      <th>2023-11-27</th>\n",
       "      <td>-0.097323</td>\n",
       "      <td>0.032336</td>\n",
       "      <td>-0.000845</td>\n",
       "    </tr>\n",
       "    <tr>\n",
       "      <th>2023-11-28</th>\n",
       "      <td>-0.093020</td>\n",
       "      <td>-0.086083</td>\n",
       "      <td>-0.044639</td>\n",
       "    </tr>\n",
       "    <tr>\n",
       "      <th>2023-11-29</th>\n",
       "      <td>-0.124409</td>\n",
       "      <td>0.086264</td>\n",
       "      <td>-0.079316</td>\n",
       "    </tr>\n",
       "    <tr>\n",
       "      <th>2023-11-30</th>\n",
       "      <td>-0.037478</td>\n",
       "      <td>-0.044196</td>\n",
       "      <td>-0.016781</td>\n",
       "    </tr>\n",
       "    <tr>\n",
       "      <th>2023-12-01</th>\n",
       "      <td>0.079672</td>\n",
       "      <td>0.001448</td>\n",
       "      <td>-0.038739</td>\n",
       "    </tr>\n",
       "    <tr>\n",
       "      <th>2023-12-02</th>\n",
       "      <td>0.137889</td>\n",
       "      <td>-0.006894</td>\n",
       "      <td>0.038654</td>\n",
       "    </tr>\n",
       "    <tr>\n",
       "      <th>2023-12-03</th>\n",
       "      <td>0.012419</td>\n",
       "      <td>-0.007056</td>\n",
       "      <td>0.034090</td>\n",
       "    </tr>\n",
       "    <tr>\n",
       "      <th>2023-12-04</th>\n",
       "      <td>-0.007405</td>\n",
       "      <td>0.047289</td>\n",
       "      <td>0.081454</td>\n",
       "    </tr>\n",
       "    <tr>\n",
       "      <th>2023-12-05</th>\n",
       "      <td>0.031568</td>\n",
       "      <td>0.066365</td>\n",
       "      <td>-0.091696</td>\n",
       "    </tr>\n",
       "    <tr>\n",
       "      <th>2023-12-06</th>\n",
       "      <td>0.013865</td>\n",
       "      <td>0.010364</td>\n",
       "      <td>0.117870</td>\n",
       "    </tr>\n",
       "    <tr>\n",
       "      <th>2023-12-07</th>\n",
       "      <td>0.130284</td>\n",
       "      <td>0.048018</td>\n",
       "      <td>0.150407</td>\n",
       "    </tr>\n",
       "    <tr>\n",
       "      <th>2023-12-08</th>\n",
       "      <td>-0.128481</td>\n",
       "      <td>0.016559</td>\n",
       "      <td>-0.019116</td>\n",
       "    </tr>\n",
       "    <tr>\n",
       "      <th>2023-12-09</th>\n",
       "      <td>-0.091797</td>\n",
       "      <td>-0.058892</td>\n",
       "      <td>0.020750</td>\n",
       "    </tr>\n",
       "    <tr>\n",
       "      <th>2023-12-10</th>\n",
       "      <td>0.110500</td>\n",
       "      <td>0.080126</td>\n",
       "      <td>0.001608</td>\n",
       "    </tr>\n",
       "    <tr>\n",
       "      <th>2023-12-11</th>\n",
       "      <td>-0.086311</td>\n",
       "      <td>0.090950</td>\n",
       "      <td>0.013242</td>\n",
       "    </tr>\n",
       "    <tr>\n",
       "      <th>2023-12-12</th>\n",
       "      <td>-0.046900</td>\n",
       "      <td>-0.032276</td>\n",
       "      <td>0.045239</td>\n",
       "    </tr>\n",
       "    <tr>\n",
       "      <th>2023-12-13</th>\n",
       "      <td>-0.058007</td>\n",
       "      <td>0.013460</td>\n",
       "      <td>-0.056300</td>\n",
       "    </tr>\n",
       "    <tr>\n",
       "      <th>2023-12-14</th>\n",
       "      <td>0.047930</td>\n",
       "      <td>0.119129</td>\n",
       "      <td>-0.043097</td>\n",
       "    </tr>\n",
       "    <tr>\n",
       "      <th>2023-12-15</th>\n",
       "      <td>-0.001300</td>\n",
       "      <td>0.065741</td>\n",
       "      <td>-0.084627</td>\n",
       "    </tr>\n",
       "  </tbody>\n",
       "</table>\n",
       "</div>"
      ],
      "text/plain": [
       "              Asset1    Asset2    Asset3\n",
       "Date                                    \n",
       "2023-11-26 -0.050912  0.008987 -0.056225\n",
       "2023-11-27 -0.097323  0.032336 -0.000845\n",
       "2023-11-28 -0.093020 -0.086083 -0.044639\n",
       "2023-11-29 -0.124409  0.086264 -0.079316\n",
       "2023-11-30 -0.037478 -0.044196 -0.016781\n",
       "2023-12-01  0.079672  0.001448 -0.038739\n",
       "2023-12-02  0.137889 -0.006894  0.038654\n",
       "2023-12-03  0.012419 -0.007056  0.034090\n",
       "2023-12-04 -0.007405  0.047289  0.081454\n",
       "2023-12-05  0.031568  0.066365 -0.091696\n",
       "2023-12-06  0.013865  0.010364  0.117870\n",
       "2023-12-07  0.130284  0.048018  0.150407\n",
       "2023-12-08 -0.128481  0.016559 -0.019116\n",
       "2023-12-09 -0.091797 -0.058892  0.020750\n",
       "2023-12-10  0.110500  0.080126  0.001608\n",
       "2023-12-11 -0.086311  0.090950  0.013242\n",
       "2023-12-12 -0.046900 -0.032276  0.045239\n",
       "2023-12-13 -0.058007  0.013460 -0.056300\n",
       "2023-12-14  0.047930  0.119129 -0.043097\n",
       "2023-12-15 -0.001300  0.065741 -0.084627"
      ]
     },
     "execution_count": 216,
     "metadata": {},
     "output_type": "execute_result"
    }
   ],
   "source": [
    "returns_four = pd.read_csv('problem4_returns.csv', index_col='Date')\n",
    "returns_four.index = pd.to_datetime(returns_four.index)\n",
    "\n",
    "returns_four\n",
    "\n"
   ]
  },
  {
   "cell_type": "code",
   "execution_count": 217,
   "metadata": {},
   "outputs": [
    {
     "data": {
      "text/plain": [
       "Asset1    0.353383\n",
       "Asset2    0.532550\n",
       "Asset3    0.114067\n",
       "Name: 0, dtype: float64"
      ]
     },
     "execution_count": 217,
     "metadata": {},
     "output_type": "execute_result"
    }
   ],
   "source": [
    "# initial weights\n",
    "start_weights = pd.read_csv('problem4_startWeight.csv').loc[0,:]\n",
    "start_weights.index = returns_four.columns\n",
    "start_weights.head()"
   ]
  },
  {
   "cell_type": "code",
   "execution_count": 218,
   "metadata": {},
   "outputs": [
    {
     "data": {
      "text/plain": [
       "Asset1    0.353383\n",
       "Asset2    0.532550\n",
       "Asset3    0.114067\n",
       "Name: 0, dtype: float64"
      ]
     },
     "execution_count": 218,
     "metadata": {},
     "output_type": "execute_result"
    }
   ],
   "source": [
    "start_weights"
   ]
  },
  {
   "cell_type": "code",
   "execution_count": 219,
   "metadata": {},
   "outputs": [
    {
     "data": {
      "text/plain": [
       "Asset1    0.949088\n",
       "Asset2    1.008987\n",
       "Asset3    0.943775\n",
       "Name: 2023-11-26 00:00:00, dtype: float64"
      ]
     },
     "execution_count": 219,
     "metadata": {},
     "output_type": "execute_result"
    }
   ],
   "source": [
    "returns_four.iloc[0,:]+1"
   ]
  },
  {
   "cell_type": "code",
   "execution_count": 220,
   "metadata": {},
   "outputs": [
    {
     "data": {
      "text/plain": [
       "Asset1   -0.017991\n",
       "Asset2    0.004786\n",
       "Asset3   -0.006413\n",
       "dtype: float64"
      ]
     },
     "execution_count": 220,
     "metadata": {},
     "output_type": "execute_result"
    }
   ],
   "source": [
    "start_weights*returns_four.iloc[0,:]"
   ]
  },
  {
   "cell_type": "code",
   "execution_count": 221,
   "metadata": {},
   "outputs": [
    {
     "name": "stdout",
     "output_type": "stream",
     "text": [
      "--------------- New Weights ----------------\n"
     ]
    },
    {
     "data": {
      "text/html": [
       "<div>\n",
       "<style scoped>\n",
       "    .dataframe tbody tr th:only-of-type {\n",
       "        vertical-align: middle;\n",
       "    }\n",
       "\n",
       "    .dataframe tbody tr th {\n",
       "        vertical-align: top;\n",
       "    }\n",
       "\n",
       "    .dataframe thead th {\n",
       "        text-align: right;\n",
       "    }\n",
       "</style>\n",
       "<table border=\"1\" class=\"dataframe\">\n",
       "  <thead>\n",
       "    <tr style=\"text-align: right;\">\n",
       "      <th></th>\n",
       "      <th>Asset1</th>\n",
       "      <th>Asset2</th>\n",
       "      <th>Asset3</th>\n",
       "    </tr>\n",
       "    <tr>\n",
       "      <th>Date</th>\n",
       "      <th></th>\n",
       "      <th></th>\n",
       "      <th></th>\n",
       "    </tr>\n",
       "  </thead>\n",
       "  <tbody>\n",
       "    <tr>\n",
       "      <th>2023-11-26</th>\n",
       "      <td>0.353383</td>\n",
       "      <td>0.532550</td>\n",
       "      <td>0.114067</td>\n",
       "    </tr>\n",
       "    <tr>\n",
       "      <th>2023-11-27</th>\n",
       "      <td>0.342103</td>\n",
       "      <td>0.548089</td>\n",
       "      <td>0.109808</td>\n",
       "    </tr>\n",
       "    <tr>\n",
       "      <th>2023-11-28</th>\n",
       "      <td>0.313722</td>\n",
       "      <td>0.574817</td>\n",
       "      <td>0.111461</td>\n",
       "    </tr>\n",
       "    <tr>\n",
       "      <th>2023-11-29</th>\n",
       "      <td>0.310511</td>\n",
       "      <td>0.573284</td>\n",
       "      <td>0.116205</td>\n",
       "    </tr>\n",
       "    <tr>\n",
       "      <th>2023-11-30</th>\n",
       "      <td>0.271445</td>\n",
       "      <td>0.621739</td>\n",
       "      <td>0.106816</td>\n",
       "    </tr>\n",
       "    <tr>\n",
       "      <th>2023-12-01</th>\n",
       "      <td>0.272000</td>\n",
       "      <td>0.618663</td>\n",
       "      <td>0.109337</td>\n",
       "    </tr>\n",
       "    <tr>\n",
       "      <th>2023-12-02</th>\n",
       "      <td>0.288385</td>\n",
       "      <td>0.608406</td>\n",
       "      <td>0.103209</td>\n",
       "    </tr>\n",
       "    <tr>\n",
       "      <th>2023-12-03</th>\n",
       "      <td>0.315662</td>\n",
       "      <td>0.581219</td>\n",
       "      <td>0.103119</td>\n",
       "    </tr>\n",
       "    <tr>\n",
       "      <th>2023-12-04</th>\n",
       "      <td>0.318520</td>\n",
       "      <td>0.575200</td>\n",
       "      <td>0.106280</td>\n",
       "    </tr>\n",
       "    <tr>\n",
       "      <th>2023-12-05</th>\n",
       "      <td>0.305914</td>\n",
       "      <td>0.582875</td>\n",
       "      <td>0.111212</td>\n",
       "    </tr>\n",
       "    <tr>\n",
       "      <th>2023-12-06</th>\n",
       "      <td>0.303977</td>\n",
       "      <td>0.598721</td>\n",
       "      <td>0.097303</td>\n",
       "    </tr>\n",
       "    <tr>\n",
       "      <th>2023-12-07</th>\n",
       "      <td>0.301590</td>\n",
       "      <td>0.591968</td>\n",
       "      <td>0.106442</td>\n",
       "    </tr>\n",
       "    <tr>\n",
       "      <th>2023-12-08</th>\n",
       "      <td>0.314546</td>\n",
       "      <td>0.572463</td>\n",
       "      <td>0.112991</td>\n",
       "    </tr>\n",
       "    <tr>\n",
       "      <th>2023-12-09</th>\n",
       "      <td>0.283516</td>\n",
       "      <td>0.601860</td>\n",
       "      <td>0.114624</td>\n",
       "    </tr>\n",
       "    <tr>\n",
       "      <th>2023-12-10</th>\n",
       "      <td>0.273661</td>\n",
       "      <td>0.601988</td>\n",
       "      <td>0.124351</td>\n",
       "    </tr>\n",
       "    <tr>\n",
       "      <th>2023-12-11</th>\n",
       "      <td>0.281735</td>\n",
       "      <td>0.602798</td>\n",
       "      <td>0.115467</td>\n",
       "    </tr>\n",
       "    <tr>\n",
       "      <th>2023-12-12</th>\n",
       "      <td>0.249428</td>\n",
       "      <td>0.637209</td>\n",
       "      <td>0.113364</td>\n",
       "    </tr>\n",
       "    <tr>\n",
       "      <th>2023-12-13</th>\n",
       "      <td>0.244360</td>\n",
       "      <td>0.633842</td>\n",
       "      <td>0.121797</td>\n",
       "    </tr>\n",
       "    <tr>\n",
       "      <th>2023-12-14</th>\n",
       "      <td>0.233100</td>\n",
       "      <td>0.650505</td>\n",
       "      <td>0.116395</td>\n",
       "    </tr>\n",
       "    <tr>\n",
       "      <th>2023-12-15</th>\n",
       "      <td>0.225416</td>\n",
       "      <td>0.671803</td>\n",
       "      <td>0.102781</td>\n",
       "    </tr>\n",
       "  </tbody>\n",
       "</table>\n",
       "</div>"
      ],
      "text/plain": [
       "              Asset1    Asset2    Asset3\n",
       "Date                                    \n",
       "2023-11-26  0.353383  0.532550  0.114067\n",
       "2023-11-27  0.342103  0.548089  0.109808\n",
       "2023-11-28  0.313722  0.574817  0.111461\n",
       "2023-11-29  0.310511  0.573284  0.116205\n",
       "2023-11-30  0.271445  0.621739  0.106816\n",
       "2023-12-01  0.272000  0.618663  0.109337\n",
       "2023-12-02  0.288385  0.608406  0.103209\n",
       "2023-12-03  0.315662  0.581219  0.103119\n",
       "2023-12-04  0.318520  0.575200  0.106280\n",
       "2023-12-05  0.305914  0.582875  0.111212\n",
       "2023-12-06  0.303977  0.598721  0.097303\n",
       "2023-12-07  0.301590  0.591968  0.106442\n",
       "2023-12-08  0.314546  0.572463  0.112991\n",
       "2023-12-09  0.283516  0.601860  0.114624\n",
       "2023-12-10  0.273661  0.601988  0.124351\n",
       "2023-12-11  0.281735  0.602798  0.115467\n",
       "2023-12-12  0.249428  0.637209  0.113364\n",
       "2023-12-13  0.244360  0.633842  0.121797\n",
       "2023-12-14  0.233100  0.650505  0.116395\n",
       "2023-12-15  0.225416  0.671803  0.102781"
      ]
     },
     "execution_count": 221,
     "metadata": {},
     "output_type": "execute_result"
    }
   ],
   "source": [
    "# Update the Weights\n",
    "weights=[]\n",
    "portfolio_rts=[]\n",
    "for i in range(returns_four.shape[0]):\n",
    "    # Store the weights\n",
    "    weights.append(start_weights)\n",
    "    # print(len(weights))\n",
    "    # Update Weights by return\n",
    "    start_weights=start_weights*(returns_four.iloc[i,:]+1) \n",
    "    # Calculate the portforlio return \n",
    "    p_rt=start_weights.sum()\n",
    "# Normalize the wieghts back so sum = 1 \n",
    "    start_weights=start_weights/p_rt\n",
    "    # Store the portforlio return\n",
    "    portfolio_rts.append(p_rt-1)\n",
    "# print(len(weights))\n",
    "# print(weights)\n",
    "weights=pd.DataFrame(weights,index=returns_four.index)\n",
    "weights.index=pd.to_datetime(weights.index)\n",
    "print(\"--------------- New Weights ----------------\")\n",
    "weights\n",
    "# print(portfolio_rts)"
   ]
  },
  {
   "cell_type": "code",
   "execution_count": 107,
   "metadata": {},
   "outputs": [
    {
     "data": {
      "text/plain": [
       "3"
      ]
     },
     "execution_count": 107,
     "metadata": {},
     "output_type": "execute_result"
    }
   ],
   "source": [
    "weights.shape[1]"
   ]
  },
  {
   "cell_type": "code",
   "execution_count": 222,
   "metadata": {},
   "outputs": [
    {
     "data": {
      "text/html": [
       "<div>\n",
       "<style scoped>\n",
       "    .dataframe tbody tr th:only-of-type {\n",
       "        vertical-align: middle;\n",
       "    }\n",
       "\n",
       "    .dataframe tbody tr th {\n",
       "        vertical-align: top;\n",
       "    }\n",
       "\n",
       "    .dataframe thead th {\n",
       "        text-align: right;\n",
       "    }\n",
       "</style>\n",
       "<table border=\"1\" class=\"dataframe\">\n",
       "  <thead>\n",
       "    <tr style=\"text-align: right;\">\n",
       "      <th></th>\n",
       "      <th>Asset1</th>\n",
       "      <th>Asset2</th>\n",
       "      <th>Asset3</th>\n",
       "      <th>PortfolioReturn</th>\n",
       "    </tr>\n",
       "  </thead>\n",
       "  <tbody>\n",
       "    <tr>\n",
       "      <th>TotalReturnAttribution</th>\n",
       "      <td>-0.104216</td>\n",
       "      <td>0.284254</td>\n",
       "      <td>-0.008093</td>\n",
       "      <td>0.180037</td>\n",
       "    </tr>\n",
       "  </tbody>\n",
       "</table>\n",
       "</div>"
      ],
      "text/plain": [
       "                          Asset1    Asset2    Asset3  PortfolioReturn\n",
       "TotalReturnAttribution -0.104216  0.284254 -0.008093         0.180037"
      ]
     },
     "execution_count": 222,
     "metadata": {},
     "output_type": "execute_result"
    }
   ],
   "source": [
    " # Add the Portfolio Return to the dataframe rts\n",
    "returns_four['Portfolio Return'] = pd.DataFrame(portfolio_rts, index=returns_four.index)\n",
    "# returns_four['Portfolio Return'] = returns_four['Portfolio Return'] + 1\n",
    "# print(returns_four)\n",
    "#calculate the total return\n",
    "                \n",
    "# print(returns_four['Portfolio Return'])\n",
    "total_return = (returns_four['Portfolio Return']+1).prod() - 1\n",
    "\n",
    "# print(total_return)\n",
    "\n",
    "# Calculate the Carino K\n",
    "k = np.log(total_return + 1) / total_return\n",
    "# print(k)\n",
    "\n",
    "# Carino k_t is the ratio scaled by 1/K\n",
    "carinoK = np.log(1 + returns_four['Portfolio Return']) / k/ returns_four['Portfolio Return']\n",
    "# print(\"--------------- Carino K ----------------\")\n",
    "# print(carinoK)\n",
    "\n",
    "# type([carinoK])\n",
    "\n",
    "# Transform carinoK to dataframe to be multiplied by weights and rts\n",
    "\n",
    "carinoK_df = pd.DataFrame([carinoK]*weights.shape[1], index=weights.columns).T\n",
    "# print(\"--------------- Carino K ----------------\")\n",
    "# print(carinoK_df)\n",
    "# Calculate the return attribution (has been adjusted by carinoK_df)\n",
    "return_attribution = (weights * carinoK_df * returns_four).dropna(axis=1)\n",
    "# print(\"--------------- Return Attribution ----------------\")\n",
    "return_attribution\n",
    "# Calculate the total return attribution\n",
    "\n",
    "total_return_attribution = return_attribution.sum()\n",
    "# print(\"--------------- Total Return Attribution ----------------\")\n",
    "# print(total_return_attribution)\n",
    "\n",
    "# Combine the total_rt_attribution and total_rts together to compare with each other\n",
    "\n",
    "attribution_df=pd.concat([total_return_attribution],axis=1).T\n",
    "# print(attribution_df)\n",
    "attribution_df.index=['TotalReturnAttribution']\n",
    "attribution_df.loc['TotalReturnAttribution','PortfolioReturn']=attribution_df.loc['TotalReturnAttribution'][:-1].sum()\n",
    "attribution_df\n",
    "\n",
    "\n"
   ]
  },
  {
   "cell_type": "markdown",
   "metadata": {},
   "source": [
    "c. Calculate the ex-post risk attribution of the portfolio on each asset (2pt)"
   ]
  },
  {
   "cell_type": "code",
   "execution_count": 224,
   "metadata": {},
   "outputs": [
    {
     "name": "stdout",
     "output_type": "stream",
     "text": [
      "Does the the sum of component SD is equal to the portfolio SD? True\n"
     ]
    },
    {
     "data": {
      "text/html": [
       "<div>\n",
       "<style scoped>\n",
       "    .dataframe tbody tr th:only-of-type {\n",
       "        vertical-align: middle;\n",
       "    }\n",
       "\n",
       "    .dataframe tbody tr th {\n",
       "        vertical-align: top;\n",
       "    }\n",
       "\n",
       "    .dataframe thead th {\n",
       "        text-align: right;\n",
       "    }\n",
       "</style>\n",
       "<table border=\"1\" class=\"dataframe\">\n",
       "  <thead>\n",
       "    <tr style=\"text-align: right;\">\n",
       "      <th></th>\n",
       "      <th>Asset1</th>\n",
       "      <th>Asset2</th>\n",
       "      <th>Asset3</th>\n",
       "      <th>Portfolio</th>\n",
       "    </tr>\n",
       "  </thead>\n",
       "  <tbody>\n",
       "    <tr>\n",
       "      <th>VolatilityAttribution</th>\n",
       "      <td>0.018242</td>\n",
       "      <td>0.026251</td>\n",
       "      <td>0.001666</td>\n",
       "      <td>0.046159</td>\n",
       "    </tr>\n",
       "  </tbody>\n",
       "</table>\n",
       "</div>"
      ],
      "text/plain": [
       "                         Asset1    Asset2    Asset3 Portfolio\n",
       "VolatilityAttribution  0.018242  0.026251  0.001666  0.046159"
      ]
     },
     "execution_count": 224,
     "metadata": {},
     "output_type": "execute_result"
    }
   ],
   "source": [
    "from scipy import linalg\n",
    "# Y is stock returns scaled by their weight at each time\n",
    "Y = (weights * returns_four).dropna(axis=1)\n",
    "\n",
    "# Set up X with the Portfolio Return\n",
    "X = pd.DataFrame(returns_four['Portfolio Return'])\n",
    "X['Intersect']=1\n",
    "\n",
    "# Calculate the Beta and discard the intercept\n",
    "B = (linalg.inv(X.T@X)@X.T@Y).iloc[:-1,:]\n",
    "\n",
    "# Component SD is Beta times the standard Deviation of the portfolio\n",
    "cSD = B * returns_four['Portfolio Return'].std()\n",
    "\n",
    "#Check that the sum of component SD is equal to the portfolio SD\n",
    "print(\"Does the the sum of component SD is equal to the portfolio SD? {}\".format(np.isclose(cSD.sum(axis=1),returns_four['Portfolio Return'].std())[0]))\n",
    "\n",
    "# Add the portfolio SD to the cSD\n",
    "cSD['Portfolio']=returns_four['Portfolio Return'].std()\n",
    "\n",
    "# Add the Vol attribution to attribution_df\n",
    "columns=list(attribution_df.columns)\n",
    "columns[-1]='Portfolio'\n",
    "Vol_attribution=pd.DataFrame(columns=columns)\n",
    "Vol_attribution.loc['VolatilityAttribution',:]=cSD.values\n",
    "Vol_attribution"
   ]
  },
  {
   "cell_type": "markdown",
   "metadata": {},
   "source": [
    "problem 5"
   ]
  },
  {
   "cell_type": "code",
   "execution_count": 192,
   "metadata": {},
   "outputs": [
    {
     "name": "stdout",
     "output_type": "stream",
     "text": [
      "             Return1   Return2   Return3   Return4\n",
      "Date                                              \n",
      "2023-10-17 -0.000292 -0.000496 -0.000443 -0.000393\n",
      "2023-10-18  0.000178  0.000228  0.000212  0.000076\n",
      "2023-10-19  0.000139  0.000160  0.000176  0.000188\n",
      "2023-10-20  0.000077  0.000125  0.000161  0.000222\n",
      "2023-10-21 -0.000384 -0.000585 -0.000505 -0.000700\n",
      "2023-10-22  0.000393  0.000551  0.000463  0.000612\n",
      "2023-10-23 -0.000101 -0.000012 -0.000167 -0.000071\n",
      "2023-10-24  0.000107 -0.000004  0.000162  0.000086\n",
      "2023-10-25 -0.000224 -0.000174 -0.000160 -0.000023\n",
      "2023-10-26  0.000239  0.000351  0.000113  0.000031\n",
      "2023-10-27 -0.000119 -0.000219 -0.000084 -0.000032\n",
      "2023-10-28  0.000236  0.000249  0.000240  0.000204\n",
      "2023-10-29 -0.000252 -0.000264 -0.000226 -0.000369\n",
      "2023-10-30 -0.000006 -0.000043 -0.000056  0.000085\n",
      "2023-10-31  0.000060  0.000129  0.000127  0.000037\n",
      "2023-11-01 -0.000218 -0.000291 -0.000284 -0.000290\n",
      "2023-11-02  0.000298  0.000340  0.000296  0.000275\n",
      "2023-11-03  0.000052  0.000019  0.000048  0.000126\n",
      "2023-11-04 -0.000233 -0.000275 -0.000286 -0.000321\n",
      "2023-11-05  0.000020 -0.000001  0.000064  0.000113\n",
      "2023-11-06  0.000072  0.000206  0.000152  0.000313\n",
      "2023-11-07  0.000116  0.000054  0.000080 -0.000128\n",
      "2023-11-08 -0.000252 -0.000219 -0.000218 -0.000175\n",
      "2023-11-09  0.000133  0.000127  0.000097  0.000041\n",
      "2023-11-10  0.000109  0.000214  0.000085  0.000176\n",
      "2023-11-11 -0.000486 -0.000743 -0.000516 -0.000540\n",
      "2023-11-12  0.000554  0.000729  0.000526  0.000518\n",
      "2023-11-13 -0.000606 -0.000524 -0.000325 -0.000382\n",
      "2023-11-14  0.000305  0.000009 -0.000024  0.000089\n",
      "2023-11-15  0.000058  0.000307  0.000199  0.000195\n",
      "2023-11-16 -0.000122 -0.000349 -0.000091 -0.000177\n",
      "2023-11-17 -0.000296 -0.000324 -0.000243 -0.000226\n",
      "2023-11-18  0.000365  0.000726  0.000451  0.000465\n",
      "2023-11-19  0.000008 -0.000100 -0.000221 -0.000124\n",
      "2023-11-20  0.000111  0.000059  0.000109 -0.000038\n",
      "2023-11-21  0.000164  0.000197  0.000156  0.000278\n",
      "2023-11-22 -0.000186 -0.000109 -0.000150 -0.000154\n",
      "2023-11-23 -0.000238 -0.000328 -0.000228 -0.000158\n",
      "2023-11-24  0.000300  0.000272  0.000351  0.000199\n",
      "2023-11-25  0.000132  0.000070 -0.000041  0.000018\n",
      "2023-11-26 -0.000059 -0.000079  0.000053 -0.000057\n",
      "2023-11-27 -0.000107  0.000006 -0.000051 -0.000052\n",
      "2023-11-28 -0.000097 -0.000158 -0.000083 -0.000067\n",
      "2023-11-29 -0.000195 -0.000198 -0.000108 -0.000130\n",
      "2023-11-30 -0.000036  0.000272  0.000084  0.000139\n",
      "2023-12-01  0.000115 -0.000175 -0.000162 -0.000191\n",
      "2023-12-02  0.000366  0.000317  0.000430  0.000316\n",
      "2023-12-03 -0.000238 -0.000147 -0.000304 -0.000191\n",
      "2023-12-04 -0.000337 -0.000480 -0.000357 -0.000379\n",
      "2023-12-05  0.000948  0.001111  0.000892  0.000970\n",
      "2023-12-06 -0.000540 -0.000531 -0.000448 -0.000439\n",
      "2023-12-07  0.000087 -0.000050  0.000081  0.000099\n",
      "2023-12-08 -0.000079 -0.000053 -0.000023 -0.000125\n",
      "2023-12-09 -0.000223 -0.000195 -0.000352 -0.000230\n",
      "2023-12-10  0.000681  0.000749  0.000726  0.000686\n",
      "2023-12-11 -0.000723 -0.000641 -0.000414 -0.000680\n",
      "2023-12-12  0.000215  0.000054 -0.000073  0.000169\n",
      "2023-12-13 -0.000002  0.000118  0.000124  0.000199\n",
      "2023-12-14  0.000067  0.000034  0.000007 -0.000045\n",
      "2023-12-15 -0.000069 -0.000100 -0.000133 -0.000070\n"
     ]
    }
   ],
   "source": [
    "from scipy.stats import norm,spearmanr,multivariate_normal,t\n",
    "prices_df=pd.read_csv('problem5.csv')\n",
    "prices_df.head()\n",
    "\n",
    "\n",
    "returns = return_calculate(prices_df, method=\"DISCRETE\", date_column=\"Date\")\n",
    "# print(returns.head())\n",
    "returns.columns = ['Date','Return1', 'Return2', 'Return3', 'Return4']\n",
    "#make date the index column\n",
    "returns = returns.set_index('Date')\n",
    "print(returns)"
   ]
  },
  {
   "cell_type": "code",
   "execution_count": 193,
   "metadata": {},
   "outputs": [],
   "source": [
    "Y = returns.copy()\n",
    "\n",
    "# Use the CDF to transform the data to uniform universe\n",
    "U=[]\n",
    "Model_T=[]\n",
    "for i in range(Y.shape[1]):\n",
    "    params=t.fit(Y.iloc[:,i].values)\n",
    "    Model_T.append(t(df=params[0],loc=params[1],scale=params[2]))\n",
    "    U.append(Model_T[i].cdf(Y.iloc[:,i]))\n",
    "\n",
    "nSim = 10000\n",
    "\n",
    "# Gaussian Copula\n",
    "# Use the standard normal quantile function to transform the uniform to normal \n",
    "Z=norm.ppf(U)\n",
    "Z=pd.DataFrame(Z,index=Y.columns).T\n",
    "# Spearman correlation\n",
    "corr_spearman = spearmanr(Z,axis=0)[0]\n",
    "# Simulate Normal & Transform to uniform\n",
    "simU=norm.cdf(multivariate_normal.rvs(cov=corr_spearman, size=nSim))\n",
    "simU=pd.DataFrame(simU,columns=Y.columns)\n",
    "# Transform to T Distribution\n",
    "simReturns=[]\n",
    "for i in range(Y.shape[1]):\n",
    "    simReturns.append(Model_T[i].ppf(simU.iloc[:,i]))\n",
    "\n",
    "# convert simulated returns to dataframe\n",
    "simReturns=pd.DataFrame(simReturns,index=Y.columns).T"
   ]
  },
  {
   "cell_type": "markdown",
   "metadata": {},
   "source": [
    "### a. Calculate VaR (5%) for each asset (3pt)"
   ]
  },
  {
   "cell_type": "code",
   "execution_count": 197,
   "metadata": {},
   "outputs": [],
   "source": [
    "def VaR_historical(data,alpha=0.05):\n",
    "     \n",
    "     '''Given a dataset(array), calculate the its historical VaR'''\n",
    "     data.sort()\n",
    "     n=round(data.shape[0]*alpha)\n",
    "     return -data[n-1]"
   ]
  },
  {
   "cell_type": "code",
   "execution_count": 198,
   "metadata": {},
   "outputs": [
    {
     "name": "stdout",
     "output_type": "stream",
     "text": [
      "The fisrt VaR is $0.05073\n",
      "The second VaR is $0.07142\n",
      "The third VaR is $0.05398\n",
      "The forth VaR is $0.05327\n"
     ]
    }
   ],
   "source": [
    "# Var1\n",
    "VaR_1=VaR_historical(simReturns['Return1'].to_numpy(),alpha=0.05)*df_price.iloc[-1,:]['Price1']\n",
    "print(\"The fisrt VaR is ${:.5f}\".format(VaR_1))\n",
    "\n",
    "# Var2\n",
    "VaR_2=VaR_historical(simReturns['Return2'].to_numpy(),alpha=0.05)*df_price.iloc[-1,:]['Price2']\n",
    "print(\"The second VaR is ${:.5f}\".format(VaR_2))\n",
    "\n",
    "# Var3\n",
    "VaR_3=VaR_historical(simReturns['Return3'].to_numpy(),alpha=0.05)*df_price.iloc[-1,:]['Price3']\n",
    "print(\"The third VaR is ${:.5f}\".format(VaR_3))\n",
    "\n",
    "# Var4\n",
    "VaR_4=VaR_historical(simReturns['Return4'].to_numpy(),alpha=0.05)*df_price.iloc[-1,:]['Price4']\n",
    "print(\"The forth VaR is ${:.5f}\".format(VaR_4))"
   ]
  }
 ],
 "metadata": {
  "kernelspec": {
   "display_name": "ab",
   "language": "python",
   "name": "python3"
  },
  "language_info": {
   "codemirror_mode": {
    "name": "ipython",
    "version": 3
   },
   "file_extension": ".py",
   "mimetype": "text/x-python",
   "name": "python",
   "nbconvert_exporter": "python",
   "pygments_lexer": "ipython3",
   "version": "3.10.10"
  }
 },
 "nbformat": 4,
 "nbformat_minor": 2
}
